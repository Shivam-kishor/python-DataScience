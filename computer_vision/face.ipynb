{
 "cells": [
  {
   "cell_type": "code",
   "execution_count": 2,
   "metadata": {},
   "outputs": [
    {
     "ename": "error",
     "evalue": "OpenCV(4.6.0) :-1: error: (-5:Bad argument) in function 'detectMultiScale'\n> Overload resolution failed:\n>  - 'scalactor' is an invalid keyword argument for CascadeClassifier.detectMultiScale()\n>  - 'scalactor' is an invalid keyword argument for CascadeClassifier.detectMultiScale()\n",
     "output_type": "error",
     "traceback": [
      "\u001b[1;31m---------------------------------------------------------------------------\u001b[0m",
      "\u001b[1;31merror\u001b[0m                                     Traceback (most recent call last)",
      "\u001b[1;32mc:\\Users\\Shiva\\Documents\\python DataScience\\computer_vision\\face.ipynb Cell 1\u001b[0m in \u001b[0;36m<cell line: 12>\u001b[1;34m()\u001b[0m\n\u001b[0;32m     <a href='vscode-notebook-cell:/c%3A/Users/Shiva/Documents/python%20DataScience/computer_vision/face.ipynb#W0sZmlsZQ%3D%3D?line=11'>12</a>\u001b[0m ret,video_data\u001b[39m=\u001b[39mvideo_cap\u001b[39m.\u001b[39mread()\n\u001b[0;32m     <a href='vscode-notebook-cell:/c%3A/Users/Shiva/Documents/python%20DataScience/computer_vision/face.ipynb#W0sZmlsZQ%3D%3D?line=12'>13</a>\u001b[0m col\u001b[39m=\u001b[39mcv2\u001b[39m.\u001b[39mcvtColor(video_data,cv2\u001b[39m.\u001b[39mCOLOR_BGR2GRAY)\n\u001b[1;32m---> <a href='vscode-notebook-cell:/c%3A/Users/Shiva/Documents/python%20DataScience/computer_vision/face.ipynb#W0sZmlsZQ%3D%3D?line=13'>14</a>\u001b[0m faces \u001b[39m=\u001b[39m face_cap\u001b[39m.\u001b[39;49mdetectMultiScale(\n\u001b[0;32m     <a href='vscode-notebook-cell:/c%3A/Users/Shiva/Documents/python%20DataScience/computer_vision/face.ipynb#W0sZmlsZQ%3D%3D?line=14'>15</a>\u001b[0m     col,\n\u001b[0;32m     <a href='vscode-notebook-cell:/c%3A/Users/Shiva/Documents/python%20DataScience/computer_vision/face.ipynb#W0sZmlsZQ%3D%3D?line=15'>16</a>\u001b[0m     scalactor\u001b[39m=\u001b[39;49m\u001b[39m1.1\u001b[39;49m,\n\u001b[0;32m     <a href='vscode-notebook-cell:/c%3A/Users/Shiva/Documents/python%20DataScience/computer_vision/face.ipynb#W0sZmlsZQ%3D%3D?line=16'>17</a>\u001b[0m     minNeighbors\u001b[39m=\u001b[39;49m\u001b[39m5\u001b[39;49m,\n\u001b[0;32m     <a href='vscode-notebook-cell:/c%3A/Users/Shiva/Documents/python%20DataScience/computer_vision/face.ipynb#W0sZmlsZQ%3D%3D?line=17'>18</a>\u001b[0m     miniSize\u001b[39m=\u001b[39;49m(\u001b[39m20\u001b[39;49m,\u001b[39m20\u001b[39;49m),    \n\u001b[0;32m     <a href='vscode-notebook-cell:/c%3A/Users/Shiva/Documents/python%20DataScience/computer_vision/face.ipynb#W0sZmlsZQ%3D%3D?line=18'>19</a>\u001b[0m     flags\u001b[39m=\u001b[39;49mcv2\u001b[39m.\u001b[39;49mCASCADE_SCALE_IMAGE \n\u001b[0;32m     <a href='vscode-notebook-cell:/c%3A/Users/Shiva/Documents/python%20DataScience/computer_vision/face.ipynb#W0sZmlsZQ%3D%3D?line=19'>20</a>\u001b[0m )\n\u001b[0;32m     <a href='vscode-notebook-cell:/c%3A/Users/Shiva/Documents/python%20DataScience/computer_vision/face.ipynb#W0sZmlsZQ%3D%3D?line=20'>21</a>\u001b[0m \u001b[39mfor\u001b[39;00m(x,y,w,h) \u001b[39min\u001b[39;00m faces:\n\u001b[0;32m     <a href='vscode-notebook-cell:/c%3A/Users/Shiva/Documents/python%20DataScience/computer_vision/face.ipynb#W0sZmlsZQ%3D%3D?line=21'>22</a>\u001b[0m     cv2\u001b[39m.\u001b[39mrectangle(video_data(x,y),(x\u001b[39m+\u001b[39mw,y\u001b[39m+\u001b[39mh),(\u001b[39m0\u001b[39m,\u001b[39m255\u001b[39m,\u001b[39m0\u001b[39m),\u001b[39m2\u001b[39m)\n",
      "\u001b[1;31merror\u001b[0m: OpenCV(4.6.0) :-1: error: (-5:Bad argument) in function 'detectMultiScale'\n> Overload resolution failed:\n>  - 'scalactor' is an invalid keyword argument for CascadeClassifier.detectMultiScale()\n>  - 'scalactor' is an invalid keyword argument for CascadeClassifier.detectMultiScale()\n"
     ]
    }
   ],
   "source": [
    "#from tkinter import CASCADE\n",
    "import cv2\n",
    "\n",
    "#capture eyes,nose,etc\n",
    "face_cap=cv2.CascadeClassifier(\"C:/Users/Shiva/AppData/Roaming/Python/Python39/site-packages/cv2/data/haarcascade_frontalface_default.xml\")\n",
    "\n",
    "#enabling camera\n",
    "video_cap=cv2.VideoCapture(0)\n",
    "while True :\n",
    "\n",
    "    #read images\n",
    "    ret,video_data=video_cap.read()\n",
    "    col=cv2.cvtColor(video_data,cv2.COLOR_BGR2GRAY)\n",
    "    faces = face_cap.detectMultiScale(\n",
    "        col,\n",
    "        scalactor=1.1,\n",
    "        minNeighbors=5,\n",
    "        miniSize=(20,20),    \n",
    "        flags=cv2.CASCADE_SCALE_IMAGE \n",
    "    )\n",
    "    for(x,y,w,h) in faces:\n",
    "        cv2.rectangle(video_data(x,y),(x+w,y+h),(0,255,0),2)\n",
    "    cv2.imshow(\"video_live\",video_data)\n",
    "    if cv2.waitKey(10) == ord(\"a\"):\n",
    "        break\n",
    "video_cap.release()"
   ]
  }
 ],
 "metadata": {
  "kernelspec": {
   "display_name": "Python 3.9.12",
   "language": "python",
   "name": "python3"
  },
  "language_info": {
   "codemirror_mode": {
    "name": "ipython",
    "version": 3
   },
   "file_extension": ".py",
   "mimetype": "text/x-python",
   "name": "python",
   "nbconvert_exporter": "python",
   "pygments_lexer": "ipython3",
   "version": "3.9.12"
  },
  "orig_nbformat": 4,
  "vscode": {
   "interpreter": {
    "hash": "ad2bdc8ecc057115af97d19610ffacc2b4e99fae6737bb82f5d7fb13d2f2c186"
   }
  }
 },
 "nbformat": 4,
 "nbformat_minor": 2
}
