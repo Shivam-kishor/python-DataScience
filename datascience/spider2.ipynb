{
 "cells": [
  {
   "cell_type": "code",
   "execution_count": 1,
   "metadata": {},
   "outputs": [],
   "source": [
    "import requests \n",
    "from bs4 import BeautifulSoup\n",
    "\n"
   ]
  },
  {
   "cell_type": "code",
   "execution_count": 2,
   "metadata": {},
   "outputs": [
    {
     "name": "stdout",
     "output_type": "stream",
     "text": [
      "data loaded\n"
     ]
    }
   ],
   "source": [
    "def load_soup(url):\n",
    "    page =requests.get(url)\n",
    "    if page.status_code==200:\n",
    "        return BeautifulSoup(page.text)\n",
    "    else:\n",
    "        print(page.status_code)\n",
    "\n",
    "\n",
    "url=\"https://www.flipkart.com/search?q=mobiles&otracker=search&otracker1=search&marketplace=FLIPKART&as-show=off&as=off\"\n",
    "\n",
    "\n",
    "soup=load_soup(url)\n",
    "if soup is  not None:    print(\"data loaded\")\n",
    "else:\n",
    "    print(\"data could not be loaded\")"
   ]
  },
  {
   "cell_type": "code",
   "execution_count": 3,
   "metadata": {},
   "outputs": [
    {
     "name": "stdout",
     "output_type": "stream",
     "text": [
      "you target area found\n"
     ]
    }
   ],
   "source": [
    "target=soup.find('div',attrs={'class':'_1YokD2 _3Mn1Gg'})\n",
    "if target is not None:\n",
    "    print('you target area found')\n",
    "else:\n",
    "    print('i am a dump')"
   ]
  },
  {
   "cell_type": "code",
   "execution_count": 4,
   "metadata": {},
   "outputs": [
    {
     "name": "stdout",
     "output_type": "stream",
     "text": [
      "24 items found in page\n"
     ]
    }
   ],
   "source": [
    "items=target.find_all('div',attrs='_2kHMtA')#attrs= or class_= atre sameall mobiles name\n",
    "if items is not None:\n",
    "    print(len(items),'items found in page')\n",
    "else:\n",
    "    print('you r confirmed dump')"
   ]
  },
  {
   "cell_type": "markdown",
   "metadata": {},
   "source": [
    "all mobiles name📱📱📲\n"
   ]
  },
  {
   "cell_type": "code",
   "execution_count": 5,
   "metadata": {},
   "outputs": [
    {
     "name": "stdout",
     "output_type": "stream",
     "text": [
      "realme 9i (Prism Black, 128 GB)\n",
      "realme C31 (Dark Green, 64 GB)\n",
      "realme 9i (Prism Blue, 128 GB)\n",
      "IAIR D23\n",
      "realme C31 (Light Silver, 32 GB)\n",
      "realme C31 (Dark Green, 32 GB)\n",
      "APPLE iPhone 11 (White, 128 GB)\n",
      "IAIR D10\n",
      "REDMI 10 (Pacific Blue, 64 GB)\n",
      "APPLE iPhone 11 (Black, 128 GB)\n",
      "Cellecor E3\n",
      "IAIR D40\n",
      "REDMI 10 (Midnight Black, 64 GB)\n",
      "APPLE iPhone 13 (Starlight, 128 GB)\n",
      "REDMI 10 (Caribbean Green, 64 GB)\n",
      "realme C31 (Light Silver, 64 GB)\n",
      "IAIR D22\n",
      "Cellecor E3+\n",
      "APPLE iPhone 11 (White, 64 GB)\n",
      "SAMSUNG Galaxy F13 (Waterfall Blue, 64 GB)\n",
      "IAIR D41\n",
      "Cellecor E5\n",
      "SAMSUNG Galaxy F13 (Nightsky Green, 64 GB)\n",
      "Infinix Hot 12 (7° Purple, 64 GB)\n"
     ]
    }
   ],
   "source": [
    "for product in items:\n",
    "    name= product.find('div',class_='_4rR01T')\n",
    "    print(name.text)"
   ]
  },
  {
   "cell_type": "code",
   "execution_count": 6,
   "metadata": {},
   "outputs": [
    {
     "name": "stdout",
     "output_type": "stream",
     "text": [
      "found realme 9i (Prism Black, 128 GB)\n",
      "original_price ₹16,999\n",
      "discount price ₹11,099\n",
      "exchange_price Top Discount on Sale\n",
      "4.588,012 Ratings & 4,863 Reviews\n",
      "found realme C31 (Dark Green, 64 GB)\n",
      "original_price ₹11,999\n",
      "discount price ₹9,999\n",
      "exchange_price Top Discount on Sale\n",
      "4.435,514 Ratings & 1,799 Reviews\n",
      "found realme 9i (Prism Blue, 128 GB)\n",
      "original_price ₹16,999\n",
      "discount price ₹11,099\n",
      "exchange_price Top Discount on Sale\n",
      "4.588,012 Ratings & 4,863 Reviews\n",
      "found IAIR D23\n",
      "original_price ₹1,099\n",
      "discount price ₹1,097\n",
      "exchange_price Bank Offer\n",
      "4.343 Ratings & 12 Reviews\n",
      "found realme C31 (Light Silver, 32 GB)\n",
      "original_price ₹10,999\n",
      "discount price ₹9,299\n",
      "exchange_price Top Discount on Sale\n",
      "4.538,675 Ratings & 1,457 Reviews\n",
      "found realme C31 (Dark Green, 32 GB)\n",
      "original_price ₹10,999\n",
      "discount price ₹9,299\n",
      "exchange_price Top Discount on Sale\n",
      "4.538,675 Ratings & 1,457 Reviews\n",
      "found APPLE iPhone 11 (White, 128 GB)\n",
      "original_price ₹48,900\n",
      "discount price ₹41,990\n",
      "no exchange offer\n",
      "4.61,32,089 Ratings & 8,361 Reviews\n",
      "found IAIR D10\n",
      "original_price ₹1,199\n",
      "discount price ₹1,161\n",
      "exchange_price Bank Offer\n",
      "3.940 Ratings & 20 Reviews\n",
      "found REDMI 10 (Pacific Blue, 64 GB)\n",
      "original_price ₹14,999\n",
      "discount price ₹8,999\n",
      "exchange_price Top Discount on Sale\n",
      "4.387,684 Ratings & 5,449 Reviews\n",
      "found APPLE iPhone 11 (Black, 128 GB)\n",
      "original_price ₹48,900\n",
      "discount price ₹41,990\n",
      "no exchange offer\n",
      "4.61,32,089 Ratings & 8,361 Reviews\n",
      "found Cellecor E3\n",
      "original price not available\n",
      "discount price ₹1,179\n",
      "exchange_price Bank Offer\n",
      "4.25 Ratings & 1 Reviews\n",
      "found IAIR D40\n",
      "original price not available\n",
      "discount price ₹1,319\n",
      "exchange_price Bank Offer\n",
      "3.922 Ratings & 13 Reviews\n",
      "found REDMI 10 (Midnight Black, 64 GB)\n",
      "original_price ₹14,999\n",
      "discount price ₹8,999\n",
      "exchange_price Top Discount on Sale\n",
      "4.387,684 Ratings & 5,449 Reviews\n",
      "found APPLE iPhone 13 (Starlight, 128 GB)\n",
      "original_price ₹69,900\n",
      "discount price ₹59,990\n",
      "exchange_price #8 Rated on Camera\n",
      "4.71,00,294 Ratings & 5,052 Reviews\n",
      "found REDMI 10 (Caribbean Green, 64 GB)\n",
      "original_price ₹14,999\n",
      "discount price ₹8,999\n",
      "exchange_price Top Discount on Sale\n",
      "4.387,684 Ratings & 5,449 Reviews\n",
      "found realme C31 (Light Silver, 64 GB)\n",
      "original_price ₹11,999\n",
      "discount price ₹9,999\n",
      "exchange_price Top Discount on Sale\n",
      "4.435,514 Ratings & 1,799 Reviews\n",
      "found IAIR D22\n",
      "original price not available\n",
      "discount price ₹1,120\n",
      "exchange_price Bank Offer\n",
      "4.116 Ratings & 7 Reviews\n",
      "found Cellecor E3+\n",
      "original price not available\n",
      "discount price ₹1,149\n",
      "exchange_price Bank Offer\n",
      "4.73 Ratings & 0 Reviews\n",
      "found APPLE iPhone 11 (White, 64 GB)\n",
      "original_price ₹43,900\n",
      "discount price ₹35,990\n",
      "exchange_price Top Discount on Sale\n",
      "4.61,32,089 Ratings & 8,361 Reviews\n",
      "found SAMSUNG Galaxy F13 (Waterfall Blue, 64 GB)\n",
      "original_price ₹14,999\n",
      "discount price ₹9,999\n",
      "exchange_price Top Discount on Sale\n",
      "4.440,036 Ratings & 1,830 Reviews\n",
      "found IAIR D41\n",
      "original price not available\n",
      "discount price ₹1,319\n",
      "exchange_price Bank Offer\n",
      "3.325 Ratings & 7 Reviews\n",
      "found Cellecor E5\n",
      "original price not available\n",
      "discount price ₹1,319\n",
      "exchange_price Bank Offer\n",
      "45 Ratings & 1 Reviews\n",
      "found SAMSUNG Galaxy F13 (Nightsky Green, 64 GB)\n",
      "original_price ₹14,999\n",
      "discount price ₹9,999\n",
      "exchange_price Top Discount on Sale\n",
      "4.440,036 Ratings & 1,830 Reviews\n",
      "found Infinix Hot 12 (7° Purple, 64 GB)\n",
      "original_price ₹12,999\n",
      "discount price ₹8,499\n",
      "exchange_price Top Discount on Sale\n",
      "4.32,893 Ratings & 180 Reviews\n"
     ]
    }
   ],
   "source": [
    "for product in items:\n",
    "    name = product.find('div',class_='_4rR01T')\n",
    "    original_price = product.find('div',class_='_3I9_wc _27UcVY')\n",
    "    dprice = product.find('div',class_='_30jeq3 _1_WHN1')\n",
    "    exchange_price = product.find('div',class_='_2Tpdn3 _18hQoS')\n",
    "    rating_reviews=product.find('div',class_='gUuXy-')\n",
    "    #rating=product.find('div',class_='_3LWZlK')\n",
    "    print(\"found\",name.text)\n",
    "    \n",
    "\n",
    "    try:\n",
    "        print('original_price',original_price.text)\n",
    "    except:\n",
    "        print('original price not available')\n",
    "    \n",
    "    print(\"discount price\",dprice.text)\n",
    "    \n",
    "    try:\n",
    "        print('exchange_price',exchange_price.text)\n",
    "    except:\n",
    "        print('no exchange offer')\n",
    "    \n",
    "    print(rating_reviews.text)\n",
    "    #print(rating.text)\n",
    "    \n",
    "    "
   ]
  },
  {
   "cell_type": "markdown",
   "metadata": {},
   "source": [
    "saving in excel 📃📃"
   ]
  },
  {
   "cell_type": "code",
   "execution_count": 7,
   "metadata": {},
   "outputs": [],
   "source": [
    "data=[]\n",
    "for product in items:\n",
    "    name = product.find('div',class_='_4rR01T')\n",
    "    original_price = product.find('div',class_='_3I9_wc _27UcVY')\n",
    "    dprice = product.find('div',class_='_30jeq3 _1_WHN1')\n",
    "    exchange_price = product.find('div',class_='_2Tpdn3 _18hQoS')\n",
    "    rating_reviews=product.find('div',class_='gUuXy-')\n",
    "    #rating=product.find('div',class_='_3LWZlK')\n",
    "    content={}\n",
    "    #content=['name']=name.text\n",
    "    content['discount_price']=dprice.text\n",
    "    \n",
    "    try:\n",
    "        content[\"original_price\"]=original_price.text\n",
    "    except:\n",
    "        content['original_price']=None\n",
    "\n",
    "    data.append(content)    \n"
   ]
  },
  {
   "cell_type": "code",
   "execution_count": null,
   "metadata": {},
   "outputs": [],
   "source": []
  }
 ],
 "metadata": {
  "kernelspec": {
   "display_name": "Python 3.9.12 ('base')",
   "language": "python",
   "name": "python3"
  },
  "language_info": {
   "codemirror_mode": {
    "name": "ipython",
    "version": 3
   },
   "file_extension": ".py",
   "mimetype": "text/x-python",
   "name": "python",
   "nbconvert_exporter": "python",
   "pygments_lexer": "ipython3",
   "version": "3.9.12"
  },
  "orig_nbformat": 4,
  "vscode": {
   "interpreter": {
    "hash": "71337036f693cf9207c235ee4583659279574cf34825e1d3ad457f737f7d2262"
   }
  }
 },
 "nbformat": 4,
 "nbformat_minor": 2
}
