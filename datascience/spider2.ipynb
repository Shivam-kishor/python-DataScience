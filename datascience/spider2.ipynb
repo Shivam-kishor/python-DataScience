{
 "cells": [
  {
   "cell_type": "code",
   "execution_count": 42,
   "metadata": {},
   "outputs": [],
   "source": [
    "import requests \n",
    "from bs4 import BeautifulSoup\n",
    "\n"
   ]
  },
  {
   "cell_type": "code",
   "execution_count": 43,
   "metadata": {},
   "outputs": [
    {
     "name": "stdout",
     "output_type": "stream",
     "text": [
      "data loaded\n"
     ]
    }
   ],
   "source": [
    "def load_soup(url):\n",
    "    page =requests.get(url)\n",
    "    if page.status_code==200:\n",
    "        return BeautifulSoup(page.text)\n",
    "    else:\n",
    "        print(page.status_code)\n",
    "\n",
    "\n",
    "url=\"https://www.flipkart.com/search?q=mobiles&otracker=search&otracker1=search&marketplace=FLIPKART&as-show=off&as=off\"\n",
    "\n",
    "\n",
    "soup=load_soup(url)\n",
    "if soup is  not None:    print(\"data loaded\")\n",
    "else:\n",
    "    print(\"data could not be loaded\")"
   ]
  },
  {
   "cell_type": "code",
   "execution_count": 44,
   "metadata": {},
   "outputs": [
    {
     "name": "stdout",
     "output_type": "stream",
     "text": [
      "you target area found\n"
     ]
    }
   ],
   "source": [
    "target=soup.find('div',attrs={'class':'_1YokD2 _3Mn1Gg'})\n",
    "if target is not None:\n",
    "    print('you target area found')\n",
    "else:\n",
    "    print('i am a dump')"
   ]
  },
  {
   "cell_type": "code",
   "execution_count": 48,
   "metadata": {},
   "outputs": [
    {
     "name": "stdout",
     "output_type": "stream",
     "text": [
      "24 items found in page\n"
     ]
    }
   ],
   "source": [
    "items=target.find_all('div',attrs='_2kHMtA')#attrs= or class_= atre sameall mobiles name\n",
    "if items is not None:\n",
    "    print(len(items),'items found in page')\n",
    "else:\n",
    "    print('you r confirmed dump')"
   ]
  },
  {
   "cell_type": "markdown",
   "metadata": {},
   "source": [
    "all mobiles name📱📱📲\n"
   ]
  },
  {
   "cell_type": "code",
   "execution_count": null,
   "metadata": {},
   "outputs": [],
   "source": [
    "for product in items:\n",
    "    name= product.find('div',class_='_4rR01T')\n",
    "    print(name.text)"
   ]
  },
  {
   "cell_type": "code",
   "execution_count": 46,
   "metadata": {},
   "outputs": [
    {
     "name": "stdout",
     "output_type": "stream",
     "text": [
      "found Infinix HOT 12 Play (Horizon Blue, 64 GB)\n",
      "original_price ₹11,999\n",
      "discount price ₹8,199\n",
      "exchange_price Sale Price Live\n",
      "4.362,003 Ratings & 5,075 Reviews\n",
      "found Infinix HOT 12 Play (Champagne Gold, 64 GB)\n",
      "original_price ₹11,999\n",
      "discount price ₹8,199\n",
      "exchange_price Sale Price Live\n",
      "4.362,003 Ratings & 5,075 Reviews\n",
      "found Infinix HOT 12 Play (Daylight Green, 64 GB)\n",
      "original_price ₹11,999\n",
      "discount price ₹8,199\n",
      "exchange_price Sale Price Live\n",
      "4.362,003 Ratings & 5,075 Reviews\n",
      "found IAIR S19\n",
      "original price not available\n",
      "discount price ₹1,539\n",
      "exchange_price Bank Offer\n",
      "3.9201 Ratings & 49 Reviews\n",
      "found Infinix HOT 12 Play (Racing Black, 64 GB)\n",
      "original_price ₹11,999\n",
      "discount price ₹8,199\n",
      "exchange_price Sale Price Live\n",
      "4.362,003 Ratings & 5,075 Reviews\n",
      "found REDMI 9i Sport (Coral Green, 64 GB)\n",
      "original_price ₹9,999\n",
      "discount price ₹7,999\n",
      "exchange_price Sale Price Live\n",
      "4.41,43,066 Ratings & 8,213 Reviews\n",
      "found OPPO K10 (Black Carbon, 128 GB)\n",
      "original_price ₹18,999\n",
      "discount price ₹13,490\n",
      "exchange_price Sale Price Live\n",
      "4.455,105 Ratings & 4,368 Reviews\n",
      "found IAIR D40\n",
      "original price not available\n",
      "discount price ₹1,319\n",
      "exchange_price Bank Offer\n",
      "3.920 Ratings & 12 Reviews\n",
      "found OPPO K10 (Blue Flame, 128 GB)\n",
      "original_price ₹18,999\n",
      "discount price ₹13,490\n",
      "exchange_price Sale Price Live\n",
      "4.455,105 Ratings & 4,368 Reviews\n",
      "found REDMI 9i Sport (Carbon Black, 64 GB)\n",
      "original_price ₹9,999\n",
      "discount price ₹7,999\n",
      "exchange_price Sale Price Live\n",
      "4.41,43,066 Ratings & 8,213 Reviews\n",
      "found SAMSUNG Galaxy F23 5G (Copper Blush, 128 GB)\n",
      "original_price ₹23,999\n",
      "discount price ₹13,499\n",
      "exchange_price Sale Price Live\n",
      "4.244,976 Ratings & 4,501 Reviews\n",
      "found IAIR D41\n",
      "original price not available\n",
      "discount price ₹1,319\n",
      "exchange_price Bank Offer\n",
      "3.523 Ratings & 7 Reviews\n",
      "found SAMSUNG Galaxy F23 5G (Forest Green, 128 GB)\n",
      "original_price ₹23,999\n",
      "discount price ₹13,499\n",
      "exchange_price Sale Price Live\n",
      "4.244,976 Ratings & 4,501 Reviews\n",
      "found Infinix Smart 6 HD (Aqua Sky, 32 GB)\n",
      "original_price ₹8,999\n",
      "discount price ₹6,199\n",
      "exchange_price Sale Price Live\n",
      "4.61,062 Ratings & 34 Reviews\n",
      "found Infinix Smart 6 HD (Origin Blue, 32 GB)\n",
      "original_price ₹8,999\n",
      "discount price ₹6,199\n",
      "exchange_price Sale Price Live\n",
      "4.61,062 Ratings & 34 Reviews\n",
      "found IAIR D23\n",
      "original_price ₹1,099\n",
      "discount price ₹1,097\n",
      "exchange_price Bank Offer\n",
      "4.129 Ratings & 7 Reviews\n",
      "found REDMI 9i Sport (Metallic Blue, 64 GB)\n",
      "original_price ₹9,999\n",
      "discount price ₹7,999\n",
      "no exchange offer\n",
      "4.41,43,066 Ratings & 8,213 Reviews\n",
      "found SAMSUNG Galaxy F23 5G (Aqua Blue, 128 GB)\n",
      "original_price ₹23,999\n",
      "discount price ₹13,499\n",
      "exchange_price Sale Price Live\n",
      "4.244,976 Ratings & 4,501 Reviews\n",
      "found realme C31 (Dark Green, 64 GB)\n",
      "original_price ₹11,999\n",
      "discount price ₹9,499\n",
      "exchange_price Upto \n",
      "4.432,040 Ratings & 1,657 Reviews\n",
      "found IAIR D10\n",
      "original price not available\n",
      "discount price ₹1,072\n",
      "exchange_price Bank Offer\n",
      "436 Ratings & 19 Reviews\n",
      "found realme C31 (Dark Green, 32 GB)\n",
      "original_price ₹10,999\n",
      "discount price ₹8,299\n",
      "exchange_price Upto \n",
      "4.634,250 Ratings & 1,257 Reviews\n",
      "found realme C31 (Light Silver, 32 GB)\n",
      "original_price ₹10,999\n",
      "discount price ₹8,299\n",
      "exchange_price Upto \n",
      "4.634,250 Ratings & 1,257 Reviews\n",
      "found realme 9 (Stargaze White, 128 GB)\n",
      "original_price ₹20,999\n",
      "discount price ₹14,499\n",
      "exchange_price Sale Price Live\n",
      "4.422,986 Ratings & 1,582 Reviews\n",
      "found realme 9 (Sunburst Gold, 128 GB)\n",
      "original_price ₹20,999\n",
      "discount price ₹14,499\n",
      "exchange_price Sale Price Live\n",
      "4.422,986 Ratings & 1,582 Reviews\n"
     ]
    }
   ],
   "source": [
    "for product in items:\n",
    "    name = product.find('div',class_='_4rR01T')\n",
    "    original_price = product.find('div',class_='_3I9_wc _27UcVY')\n",
    "    dprice = product.find('div',class_='_30jeq3 _1_WHN1')\n",
    "    exchange_price = product.find('div',class_='_2Tpdn3 _18hQoS')\n",
    "    rating_reviews=product.find('div',class_='gUuXy-')\n",
    "    #rating=product.find('div',class_='_3LWZlK')\n",
    "    print(\"found\",name.text)\n",
    "    \n",
    "\n",
    "    try:\n",
    "        print('original_price',original_price.text)\n",
    "    except:\n",
    "        print('original price not available')\n",
    "    \n",
    "    print(\"discount price\",dprice.text)\n",
    "    \n",
    "    try:\n",
    "        print('exchange_price',exchange_price.text)\n",
    "    except:\n",
    "        print('no exchange offer')\n",
    "    \n",
    "    print(rating_reviews.text)\n",
    "    #print(rating.text)\n",
    "    \n",
    "    "
   ]
  },
  {
   "cell_type": "markdown",
   "metadata": {},
   "source": [
    "saving in excel 📃📃"
   ]
  },
  {
   "cell_type": "code",
   "execution_count": 49,
   "metadata": {},
   "outputs": [],
   "source": [
    "data=[]\n",
    "for product in items:\n",
    "    name = product.find('div',class_='_4rR01T')\n",
    "    original_price = product.find('div',class_='_3I9_wc _27UcVY')\n",
    "    dprice = product.find('div',class_='_30jeq3 _1_WHN1')\n",
    "    exchange_price = product.find('div',class_='_2Tpdn3 _18hQoS')\n",
    "    rating_reviews=product.find('div',class_='gUuXy-')\n",
    "    #rating=product.find('div',class_='_3LWZlK')\n",
    "    content={}\n",
    "    #content=['name']=name.text\n",
    "    content['discount_price']=dprice.text\n",
    "    \n",
    "    try:\n",
    "        content[\"original_price\"]=original_price.text\n",
    "    except:\n",
    "        content['original_price']=None\n",
    "\n",
    "    data.append(content)    \n"
   ]
  },
  {
   "cell_type": "code",
   "execution_count": null,
   "metadata": {},
   "outputs": [],
   "source": []
  }
 ],
 "metadata": {
  "kernelspec": {
   "display_name": "Python 3.9.12 ('base')",
   "language": "python",
   "name": "python3"
  },
  "language_info": {
   "codemirror_mode": {
    "name": "ipython",
    "version": 3
   },
   "file_extension": ".py",
   "mimetype": "text/x-python",
   "name": "python",
   "nbconvert_exporter": "python",
   "pygments_lexer": "ipython3",
   "version": "3.9.12"
  },
  "orig_nbformat": 4,
  "vscode": {
   "interpreter": {
    "hash": "71337036f693cf9207c235ee4583659279574cf34825e1d3ad457f737f7d2262"
   }
  }
 },
 "nbformat": 4,
 "nbformat_minor": 2
}
