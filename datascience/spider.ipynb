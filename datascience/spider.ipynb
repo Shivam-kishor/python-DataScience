{
 "cells": [
  {
   "cell_type": "code",
   "execution_count": 2,
   "metadata": {},
   "outputs": [
    {
     "name": "stdout",
     "output_type": "stream",
     "text": [
      "200\n",
      "target found\n"
     ]
    }
   ],
   "source": [
    "import requests\n",
    "from bs4 import BeautifulSoup\n",
    "addr = 'https://www.ndtv.com/latest'\n",
    "page = requests.get(addr)\n",
    "print(page.status_code)\n",
    "#OP➡️SUCCESSFUL\n",
    "\n",
    "\n",
    "soup = BeautifulSoup(page.text)\n",
    "target = soup.find('div', attrs={'class':'lisingNews'})\n",
    "if target is not None:\n",
    "    print('target found')\n",
    "else:\n",
    "    print('could not find targetted area')\n",
    "\n",
    "\n",
    "#news = target.find_all('div',attrs={'class':'news_Itm'})\n",
    "#if news is not None:\n",
    "#    print(len(news), 'news headlines found.')\n",
    "#else:\n",
    "#    print('Could not find the tags you are looking for')\n",
    "#\n",
    "#for idx, entry in enumerate(news):\n",
    "#    title = entry.find('h2', attrs={'class':'newsHdng'})\n",
    "#    summary = entry.find('p', attrs={'class':'newsCont'})\n",
    "#    info = entry.find('span', attrs={'class':'posted-by'})\n",
    "#    if title is not None:\n",
    "#        print(f'News entry: {idx+1}')\n",
    "#        print(title.text.strip())\n",
    "#        print(summary.text.strip())\n",
    "#        print(info.text.strip())\n",
    "#        print('---------' * 10)\n",
    "#    else:\n",
    "#        print('no title found')\n",
    "#    "
   ]
  },
  {
   "cell_type": "code",
   "execution_count": null,
   "metadata": {},
   "outputs": [],
   "source": []
  }
 ],
 "metadata": {
  "kernelspec": {
   "display_name": "Python 3.9.12 ('base')",
   "language": "python",
   "name": "python3"
  },
  "language_info": {
   "codemirror_mode": {
    "name": "ipython",
    "version": 3
   },
   "file_extension": ".py",
   "mimetype": "text/x-python",
   "name": "python",
   "nbconvert_exporter": "python",
   "pygments_lexer": "ipython3",
   "version": "3.9.12"
  },
  "orig_nbformat": 4,
  "vscode": {
   "interpreter": {
    "hash": "71337036f693cf9207c235ee4583659279574cf34825e1d3ad457f737f7d2262"
   }
  }
 },
 "nbformat": 4,
 "nbformat_minor": 2
}
