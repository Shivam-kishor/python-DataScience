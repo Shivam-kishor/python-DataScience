{
 "cells": [
  {
   "cell_type": "markdown",
   "metadata": {},
   "source": [
    "by self"
   ]
  },
  {
   "cell_type": "code",
   "execution_count": 7,
   "metadata": {},
   "outputs": [
    {
     "name": "stdout",
     "output_type": "stream",
     "text": [
      "200\n"
     ]
    }
   ],
   "source": [
    "\n",
    "import requests\n",
    "from bs4 import BeautifulSoup\n",
    "\n",
    "addr= \"https://www.ndtv.com/latest\"\n",
    "page = requests.get(addr)\n",
    "print(page.status_code)"
   ]
  },
  {
   "cell_type": "code",
   "execution_count": 8,
   "metadata": {},
   "outputs": [],
   "source": [
    "soup=BeautifulSoup(page.text)"
   ]
  },
  {
   "cell_type": "code",
   "execution_count": 9,
   "metadata": {},
   "outputs": [
    {
     "name": "stdout",
     "output_type": "stream",
     "text": [
      "target found\n"
     ]
    }
   ],
   "source": [
    "target=soup.find('div',attrs={'class':'lisingNews'})#all news i front view \n",
    "if target is not None:\n",
    "    print('target found')\n",
    "else:\n",
    "    print(\"could'nt find targeted area\")"
   ]
  },
  {
   "cell_type": "code",
   "execution_count": 10,
   "metadata": {},
   "outputs": [
    {
     "name": "stdout",
     "output_type": "stream",
     "text": [
      "India vs South Africa Live Score Ball by Ball, India vs South Africa 2022/23 Live Cricket Score Of Today's Match on NDTV SportsNDTVSports   | Thursday October 06, 2022                                                        \n",
      "                                                        Live Updates of Today Match between India vs South Africa from Bharat Ratna Shri Atal Bihari Vajpayee Ekana Cricket Stadium, Lucknow. Check commentary and full scoreboard of the match.UGC Celebrates Cyber Jaagrookta Diwas 2022, Launches Cyber Security Course\n",
      "\t\t\t\t\t\t\t\t\t\t\t\t\t\t\tEdited by Arpita Das  | Thursday October 06, 2022                                                        \n",
      "                                                        The Cyber Security programme will create more aware, responsive and responsible citizens, along with contributing effectively to an overall healthy cyber security ecosystem.Education Ministry, Haryana Government To Strengthen Schools Under PMSHRI Scheme\n",
      "\t\t\t\t\t\t\t\t\t\t\t\t\t\t\tEdited by Adarsh Srivastava  | Thursday October 06, 2022                                                        \n",
      "                                                        Education Ministry and Haryana Government have signed an agreement to improve existing schools in Haryana under the PM Schools for Rising India (PMSHRI) schemes.Samsung Galaxy Z Flip4 Allows You to Capture Life With New Perspectives With the New FlexCamSponsored Content   | Thursday October 06, 2022                                                        \n",
      "                                                        ‍‍‍‍‍‍‍India vs South Africa: India vs South Africa 2022/23 Live Cricket Score, Live Score Of Today's Match on NDTV SportsNDTVSports   | Thursday October 06, 2022                                                        \n",
      "                                                        Live Updates of Today Match between India vs South Africa from Bharat Ratna Shri Atal Bihari Vajpayee Ekana Cricket Stadium, Lucknow. Check commentary and full scoreboard of the match.This Company Wins India's First Micro Category Drone CertificationPress Trust of India   | Thursday October 06, 2022, Bengaluru                                                        \n",
      "                                                        Asteria Aerospace Limited on Thursday announced that it has received India's first micro category drone type certification for its indigenously designed A200 drone from the Directorate General of Civil Aviation (DGCA).Bharti Airtel 5G Service Goes Live in 8 Cities, Customers to Pay as per Existing 4G PlanPress Trust of India   | Thursday October 06, 2022                                                        \n",
      "                                                        Bharti Airtel on Thursday said its 5G services have gone live in eight cities of Delhi, Mumbai, Chennai, Bengaluru, Hyderabad, Siliguri, Nagpur and Varanasi. The customer availing 5G services will have to pay as per their existing 4G plan, it said.Airtel 5G Service Live In 8 Cities, Customers To Pay As Per 4G PlanPress Trust of India   | Thursday October 06, 2022, New Delhi                                                        \n",
      "                                                        Bharti Airtel on Thursday said its 5G services have gone live in eight cities of Delhi, Mumbai, Chennai, Bengaluru, Hyderabad, Siliguri, Nagpur and Varanasi.A First: Kolkata Puja, 190 Years Old, Immerses 'Durga' In Artificial TankPress Trust of India   | Thursday October 06, 2022, Kolkata                                                        \n",
      "                                                        In a bid to curb pollution, the idol of a 190-year-old Durga Puja was immersed in an artificial tank instead of a water body, setting a new trend among the 'Bonedi Baris' of Kolkata.AAP Releases 4th List Of Candidates For 12 Seats For Gujarat ElectionsPress Trust of India   | Thursday October 06, 2022, Ahemdabad                                                        \n",
      "                                                        The Aam Aadmi Party (AAP) today released its fourth list of 12 candidates for the upcoming Gujarat Assembly elections, giving tickets to people from a cross-section of society, including teachers, businesspersons and tribals.India vs South Africa Live Score Ball by Ball, India vs South Africa 2022/23 Live Cricket Score Of Today's Match on NDTV SportsNDTVSports   | Thursday October 06, 2022                                                        \n",
      "                                                        Live Updates of Today Match between India vs South Africa from Bharat Ratna Shri Atal Bihari Vajpayee Ekana Cricket Stadium, Lucknow. Check commentary and full scoreboard of the match.TikTok '5-To-9' Trend Shows Quiet Quitting Hasn't Killed Hustle CultureJo Constantz, Bloomberg   | Thursday October 06, 2022                                                        \n",
      "                                                        For all the social-media posts and ink spilled on quiet quitting, hustle culture is alive and well on TikTok.Court Refuses Bail To Man Accused Of Raping Woman After EngagementPress Trust of India   | Thursday October 06, 2022, New Delhi                                                        \n",
      "                                                        The Delhi High Court has dismissed a bail plea by a rape accused, saying that merely because the parties were engaged did not mean that the accused could have sexually assaulted, beaten or threatened the victim.Gujarat Flogging Over Garba: Report Soon, Says Police ChiefNDTV News Desk   | Thursday October 06, 2022, Ahmedabad                                                        \n",
      "                                                        The report of a panel investigating the police flogging of some Muslim men in Gujarat is expected tomorrow, the police said.NEET UG 2022 Counselling: MCC Gives Candidates Till October 11 To Apply For Change Of Nationality\n",
      "\t\t\t\t\t\t\t\t\t\t\t\t\t\t\tWritten by Adarsh Srivastava  | Thursday October 06, 2022                                                        \n",
      "                                                        MCC has released important information for NEET UG aspirants who wish to change their nationality from Indian to non-resident Indian (NRI).\n"
     ]
    }
   ],
   "source": [
    "print(target.text)      "
   ]
  },
  {
   "cell_type": "code",
   "execution_count": 11,
   "metadata": {},
   "outputs": [
    {
     "name": "stdout",
     "output_type": "stream",
     "text": [
      "17 news headlines found.\n"
     ]
    }
   ],
   "source": [
    "news= target.find_all('div',attrs={'class':'news_Itm'})\n",
    "if news is not None:\n",
    "    print(len(news),'news headlines found.')\n",
    "else:\n",
    "    print('could not find u r looking for')"
   ]
  },
  {
   "cell_type": "code",
   "execution_count": 23,
   "metadata": {},
   "outputs": [
    {
     "ename": "AttributeError",
     "evalue": "'NoneType' object has no attribute 'text'",
     "output_type": "error",
     "traceback": [
      "\u001b[1;31m---------------------------------------------------------------------------\u001b[0m",
      "\u001b[1;31mAttributeError\u001b[0m                            Traceback (most recent call last)",
      "\u001b[1;32mc:\\Users\\Shiva\\Documents\\python DataScience\\datascience\\spider.ipynb Cell 6\u001b[0m in \u001b[0;36m<cell line: 2>\u001b[1;34m()\u001b[0m\n\u001b[0;32m      <a href='vscode-notebook-cell:/c%3A/Users/Shiva/Documents/python%20DataScience/datascience/spider.ipynb#W5sZmlsZQ%3D%3D?line=8'>9</a>\u001b[0m     \u001b[39mexcept\u001b[39;00m:\n\u001b[0;32m     <a href='vscode-notebook-cell:/c%3A/Users/Shiva/Documents/python%20DataScience/datascience/spider.ipynb#W5sZmlsZQ%3D%3D?line=9'>10</a>\u001b[0m         source,location\u001b[39m=\u001b[39m\u001b[39m\"\u001b[39m\u001b[39mN/A\u001b[39m\u001b[39m\"\u001b[39m,\u001b[39m\"\u001b[39m\u001b[39mN/A\u001b[39m\u001b[39m\"\u001b[39m\n\u001b[0;32m     <a href='vscode-notebook-cell:/c%3A/Users/Shiva/Documents/python%20DataScience/datascience/spider.ipynb#W5sZmlsZQ%3D%3D?line=10'>11</a>\u001b[0m     news_data\u001b[39m.\u001b[39mappend({\n\u001b[0;32m     <a href='vscode-notebook-cell:/c%3A/Users/Shiva/Documents/python%20DataScience/datascience/spider.ipynb#W5sZmlsZQ%3D%3D?line=11'>12</a>\u001b[0m         \u001b[39m'\u001b[39m\u001b[39m#\u001b[39m\u001b[39m'\u001b[39m:idx\u001b[39m+\u001b[39m\u001b[39m1\u001b[39m,\n\u001b[0;32m     <a href='vscode-notebook-cell:/c%3A/Users/Shiva/Documents/python%20DataScience/datascience/spider.ipynb#W5sZmlsZQ%3D%3D?line=12'>13</a>\u001b[0m         \u001b[39m'\u001b[39m\u001b[39mtitle\u001b[39m\u001b[39m'\u001b[39m:title\u001b[39m.\u001b[39mtext\u001b[39m.\u001b[39mstrip(),\n\u001b[1;32m---> <a href='vscode-notebook-cell:/c%3A/Users/Shiva/Documents/python%20DataScience/datascience/spider.ipynb#W5sZmlsZQ%3D%3D?line=13'>14</a>\u001b[0m         \u001b[39m'\u001b[39m\u001b[39msummary\u001b[39m\u001b[39m'\u001b[39m:summary\u001b[39m.\u001b[39;49mtext\u001b[39m.\u001b[39mstrip(),\n\u001b[0;32m     <a href='vscode-notebook-cell:/c%3A/Users/Shiva/Documents/python%20DataScience/datascience/spider.ipynb#W5sZmlsZQ%3D%3D?line=14'>15</a>\u001b[0m         \u001b[39m'\u001b[39m\u001b[39msource\u001b[39m\u001b[39m'\u001b[39m:source\u001b[39m.\u001b[39mstrip(),\n\u001b[0;32m     <a href='vscode-notebook-cell:/c%3A/Users/Shiva/Documents/python%20DataScience/datascience/spider.ipynb#W5sZmlsZQ%3D%3D?line=15'>16</a>\u001b[0m         \u001b[39m'\u001b[39m\u001b[39mlocation\u001b[39m\u001b[39m'\u001b[39m:location\u001b[39m.\u001b[39mstrip(),\n\u001b[0;32m     <a href='vscode-notebook-cell:/c%3A/Users/Shiva/Documents/python%20DataScience/datascience/spider.ipynb#W5sZmlsZQ%3D%3D?line=16'>17</a>\u001b[0m         })\n\u001b[0;32m     <a href='vscode-notebook-cell:/c%3A/Users/Shiva/Documents/python%20DataScience/datascience/spider.ipynb#W5sZmlsZQ%3D%3D?line=17'>18</a>\u001b[0m \u001b[39melse\u001b[39;00m:\n\u001b[0;32m     <a href='vscode-notebook-cell:/c%3A/Users/Shiva/Documents/python%20DataScience/datascience/spider.ipynb#W5sZmlsZQ%3D%3D?line=18'>19</a>\u001b[0m     \u001b[39mprint\u001b[39m(\u001b[39m'\u001b[39m\u001b[39mno title was found\u001b[39m\u001b[39m'\u001b[39m)\n",
      "\u001b[1;31mAttributeError\u001b[0m: 'NoneType' object has no attribute 'text'"
     ]
    }
   ],
   "source": [
    "news_data =[] #empty list\n",
    "for idx ,entry in enumerate(news):#idx = index\n",
    "    title =entry.find('h2',attrs={'class':'newsHdng'})\n",
    "    summary=entry.find('span',attrs={'class':'newsCont'})\n",
    "    info=entry.find('span',attrs={'class':'psoted-by'})\n",
    "    if title is not None:\n",
    "        try:\n",
    "            source,location=info.text.split('|')\n",
    "        except:\n",
    "            source,location=\"N/A\",\"N/A\"\n",
    "        news_data.append({\n",
    "            '#':idx+1,\n",
    "            'title':title.text.strip(),\n",
    "            'summary':summary.text.strip(),\n",
    "            'source':source.strip(),\n",
    "            'location':location.strip(),\n",
    "            })\n",
    "    else:\n",
    "        print('no title was found')\n",
    "print(news_data)"
   ]
  },
  {
   "cell_type": "code",
   "execution_count": 27,
   "metadata": {},
   "outputs": [
    {
     "name": "stdout",
     "output_type": "stream",
     "text": [
      "no title was found\n",
      "no title was found\n",
      "[{'#': 1, 'title': \"India vs South Africa Live Score Ball by Ball, India vs South Africa 2022/23 Live Cricket Score Of Today's Match on NDTV Sports\", 'summary': 'Live Updates of Today Match between India vs South Africa from Bharat Ratna Shri Atal Bihari Vajpayee Ekana Cricket Stadium, Lucknow. Check commentary and full scoreboard of the match.', 'source': 'NDTVSports', 'location': 'Thursday October 06, 2022'}, {'#': 2, 'title': 'UGC Celebrates Cyber Jaagrookta Diwas 2022, Launches Cyber Security Course', 'summary': 'The Cyber Security programme will create more aware, responsive and responsible citizens, along with contributing effectively to an overall healthy cyber security ecosystem.', 'source': 'Edited by Arpita Das', 'location': 'Thursday October 06, 2022'}, {'#': 3, 'title': 'Education Ministry, Haryana Government To Strengthen Schools Under PMSHRI Scheme', 'summary': 'Education Ministry and Haryana Government have signed an agreement to improve existing schools in Haryana under the PM Schools for Rising India (PMSHRI) schemes.', 'source': 'Edited by Adarsh Srivastava', 'location': 'Thursday October 06, 2022'}, {'#': 5, 'title': 'Samsung Galaxy Z Flip4 Allows You to Capture Life With New Perspectives With the New FlexCam', 'summary': '\\u200d\\u200d\\u200d\\u200d\\u200d\\u200d\\u200d', 'source': 'Sponsored Content', 'location': 'Thursday October 06, 2022'}, {'#': 6, 'title': \"India vs South Africa: India vs South Africa 2022/23 Live Cricket Score, Live Score Of Today's Match on NDTV Sports\", 'summary': 'Live Updates of Today Match between India vs South Africa from Bharat Ratna Shri Atal Bihari Vajpayee Ekana Cricket Stadium, Lucknow. Check commentary and full scoreboard of the match.', 'source': 'NDTVSports', 'location': 'Thursday October 06, 2022'}, {'#': 7, 'title': \"This Company Wins India's First Micro Category Drone Certification\", 'summary': \"Asteria Aerospace Limited on Thursday announced that it has received India's first micro category drone type certification for its indigenously designed A200 drone from the Directorate General of Civil Aviation (DGCA).\", 'source': 'Press Trust of India', 'location': 'Thursday October 06, 2022, Bengaluru'}, {'#': 9, 'title': 'Bharti Airtel 5G Service Goes Live in 8 Cities, Customers to Pay as per Existing 4G Plan', 'summary': 'Bharti Airtel on Thursday said its 5G services have gone live in eight cities of Delhi, Mumbai, Chennai, Bengaluru, Hyderabad, Siliguri, Nagpur and Varanasi. The customer availing 5G services will have to pay as per their existing 4G plan, it said.', 'source': 'Press Trust of India', 'location': 'Thursday October 06, 2022'}, {'#': 10, 'title': 'Airtel 5G Service Live In 8 Cities, Customers To Pay As Per 4G Plan', 'summary': 'Bharti Airtel on Thursday said its 5G services have gone live in eight cities of Delhi, Mumbai, Chennai, Bengaluru, Hyderabad, Siliguri, Nagpur and Varanasi.', 'source': 'Press Trust of India', 'location': 'Thursday October 06, 2022, New Delhi'}, {'#': 11, 'title': \"A First: Kolkata Puja, 190 Years Old, Immerses 'Durga' In Artificial Tank\", 'summary': \"In a bid to curb pollution, the idol of a 190-year-old Durga Puja was immersed in an artificial tank instead of a water body, setting a new trend among the 'Bonedi Baris' of Kolkata.\", 'source': 'Press Trust of India', 'location': 'Thursday October 06, 2022, Kolkata'}, {'#': 12, 'title': 'AAP Releases 4th List Of Candidates For 12 Seats For Gujarat Elections', 'summary': 'The Aam Aadmi Party (AAP) today released its fourth list of 12 candidates for the upcoming Gujarat Assembly elections, giving tickets to people from a cross-section of society, including teachers, businesspersons and tribals.', 'source': 'Press Trust of India', 'location': 'Thursday October 06, 2022, Ahemdabad'}, {'#': 13, 'title': \"India vs South Africa Live Score Ball by Ball, India vs South Africa 2022/23 Live Cricket Score Of Today's Match on NDTV Sports\", 'summary': 'Live Updates of Today Match between India vs South Africa from Bharat Ratna Shri Atal Bihari Vajpayee Ekana Cricket Stadium, Lucknow. Check commentary and full scoreboard of the match.', 'source': 'NDTVSports', 'location': 'Thursday October 06, 2022'}, {'#': 14, 'title': \"TikTok '5-To-9' Trend Shows Quiet Quitting Hasn't Killed Hustle Culture\", 'summary': 'For all the social-media posts and ink spilled on quiet quitting, hustle culture is alive and well on TikTok.', 'source': 'Jo Constantz, Bloomberg', 'location': 'Thursday October 06, 2022'}, {'#': 15, 'title': 'Court Refuses Bail To Man Accused Of Raping Woman After Engagement', 'summary': 'The Delhi High Court has dismissed a bail plea by a rape accused, saying that merely because the parties were engaged did not mean that the accused could have sexually assaulted, beaten or threatened the victim.', 'source': 'Press Trust of India', 'location': 'Thursday October 06, 2022, New Delhi'}, {'#': 16, 'title': 'Gujarat Flogging Over Garba: Report Soon, Says Police Chief', 'summary': 'The report of a panel investigating the police flogging of some Muslim men in Gujarat is expected tomorrow, the police said.', 'source': 'NDTV News Desk', 'location': 'Thursday October 06, 2022, Ahmedabad'}, {'#': 17, 'title': 'NEET UG 2022 Counselling: MCC Gives Candidates Till October 11 To Apply For Change Of Nationality', 'summary': 'MCC has released important information for NEET UG aspirants who wish to change their nationality from Indian to non-resident Indian (NRI).', 'source': 'Written by Adarsh Srivastava', 'location': 'Thursday October 06, 2022'}]\n"
     ]
    }
   ],
   "source": [
    "news_data =[] #empty list\n",
    "for idx , entry in enumerate(news):\n",
    "    title =entry.find('h2', attrs={'class':'newsHdng'})\n",
    "    summary = entry.find('p', attrs={'class':'newsCont'})\n",
    "    info = entry.find('span', attrs ={'class':'posted-by'})\n",
    "    if title is not None:\n",
    "        try:\n",
    "            source , location = info.text.split('|')\n",
    "        except:\n",
    "                source,location = \"N/A\" , \"N/A\"\n",
    "        news_data.append({\n",
    "            '#': idx+1,\n",
    "            'title': title.text.strip(),\n",
    "            'summary': summary.text.strip(),\n",
    "            'source': source.strip(),\n",
    "            'location': location.strip(),\n",
    "        })\n",
    "    else:\n",
    "        print('no title was found')\n",
    "print(news_data)"
   ]
  },
  {
   "cell_type": "markdown",
   "metadata": {},
   "source": [
    "BY SIR\n"
   ]
  },
  {
   "cell_type": "code",
   "execution_count": 1,
   "metadata": {},
   "outputs": [
    {
     "name": "stdout",
     "output_type": "stream",
     "text": [
      "200\n",
      "target found\n",
      "17 news headlines found.\n",
      "News entry: 1\n",
      "NEET UG Counselling 2022: Know Which AIIMS Have Over 100 MBBS Seats\n",
      "MCC will conduct the NEET UG 2022 counselling for admission to MBBS, BDS and BSc Nursing programmes.\n",
      "Written by Adarsh Srivastava  | Wednesday October 05, 2022\n",
      "------------------------------------------------------------------------------------------\n",
      "News entry: 2\n",
      "Darwin Nunez Hoping One Goal Will Change His Luck At Liverpool\n",
      "Liverpool striker Darwin Nunez is hoping one goal is all he needs to kickstart his Anfield career after a difficult first few months on Merseyside\n",
      "Agence France-Presse   | Wednesday October 05, 2022\n",
      "------------------------------------------------------------------------------------------\n",
      "News entry: 3\n",
      "Asteroid Struck By NASA Spacecraft Leaves 10,000 Km Dust Trail\n",
      "The new image shows that the asteroid struck by the spacecraft has left a trail of debris which stretches as far as 10,000 kilometres.\n",
      "Edited by Anjali Thakur  | Wednesday October 05, 2022\n",
      "------------------------------------------------------------------------------------------\n",
      "no title found\n",
      "News entry: 5\n",
      "Amazon Suspends at Least 50 Workers After Employees Protested Against Fire Incident\n",
      "Amazon has suspended at least 50 warehouse employees who refused to work their shifts following a trash compactor fire at one of its New York facilities, according to union organisers. The company suspended the workers, with pay, on Tuesday, a day after the fire disrupted operations at the Staten Island warehouse that voted to unionise earlier this year.\n",
      "Associated Press   | Wednesday October 05, 2022\n",
      "------------------------------------------------------------------------------------------\n",
      "News entry: 6\n",
      "Joe Biden \"Disappointed\" With Oil Producers OPEC+ Output Cut Move\n",
      "President Joe Biden is \"disappointed\" with the OPEC+ cartel's decision to slash oil production output, saying it will hurt the world economy, the White House said Wednesday.\n",
      "Agence France-Presse   | Wednesday October 05, 2022, Washington\n",
      "------------------------------------------------------------------------------------------\n",
      "News entry: 7\n",
      "\"Elections In Jammu And Kashmir Only After...\": Amit Shah\n",
      "Union Home Minister Amit Shah said on Wednesday that the assembly election in Jammu and Kashmir will be conducted once the Election Commission completes the exercise of publishing the revised electoral rolls.\n",
      "Press Trust of India   | Wednesday October 05, 2022, Baramulla (Jammu and Kashmir)\n",
      "------------------------------------------------------------------------------------------\n",
      "no title found\n",
      "News entry: 9\n",
      "35 Fire Trucks, 150 Firefighters Tackle Huge Fire In North Delhi\n",
      "The narrow lanes of Gandhi Nagar are proving to be a major challenge to tackle the blaze, they said.\n",
      "Reported by Mukesh Singh Sengar | Wednesday October 05, 2022, New Delhi\n",
      "------------------------------------------------------------------------------------------\n",
      "News entry: 10\n",
      "\"He's Pissed Off At Not Playing\": Erik Ten Hag On Cristiano Ronaldo's Situation At Manchester United\n",
      "Cristiano Ronaldo was an unused substitute in Manchester United's 6-3 defeat against Manchester City over the weekend. United manager Erik Ten Hag admitted that Ronaldo is infuriated with the fact that he isn't getting enough playing time at the club.\n",
      "NDTV Sports Desk   | Wednesday October 05, 2022\n",
      "------------------------------------------------------------------------------------------\n",
      "News entry: 11\n",
      "Rahul Gandhi Urges Karnataka Chief Minister To Save Injured Baby Elephant\n",
      "Anguished by the plight of an injured baby elephant in the Nagarhole Tiger Reserve near Mysuru, former Congress president Rahul Gandhi Wednesday urged Karnataka Chief Minister Basavaraj Bommai to help the animal.\n",
      "Press Trust of India   | Wednesday October 05, 2022, Mysuru\n",
      "------------------------------------------------------------------------------------------\n",
      "News entry: 12\n",
      "Oil Prices Rise As OPEC, Russia-Led Allies Announce Major Output Cut\n",
      "Oil prices climbed Wednesday as OPEC and Russia-led allies announced a major cut in output, while a stocks rally ran out of gas.\n",
      "Agence France-Presse   | Wednesday October 05, 2022, London\n",
      "------------------------------------------------------------------------------------------\n",
      "News entry: 13\n",
      "RSS Chief's Remarks On Population Control \"Balanced\": Ex-Poll Panel Chief\n",
      "Former chief election commissioner S Y Quraishi on Wednesday said RSS chief Mohan Bhagwat's remarks on population control policy were \"balanced\" as he did not point fingers at a particular community.\n",
      "Press Trust of India   | Wednesday October 05, 2022, New Delhi\n",
      "------------------------------------------------------------------------------------------\n",
      "News entry: 14\n",
      "Infinix Zero Ultra 5G With 200-Megapixel Camera, 180W Fast Charging Support Launched: Price, Specifications\n",
      "Infinix Zero Ultra 5G was launched today for global markets. The smartphone from Infinix comes with a 180W Thunder Charge system, and a 200-megapixel main camera sensor.\n",
      "Written by Richa Sharma  | Wednesday October 05, 2022\n",
      "------------------------------------------------------------------------------------------\n",
      "News entry: 15\n",
      "Andreas Christensen, Franck Kessie Out As Barcelona Injury Crisis Deepens\n",
      "Barcelona defender Andreas Christensen and midfielder Franck Kessie are injured, the club confirmed on Wednesday, leaving the Catalans with seven players sidelined ahead of crucial games\n",
      "Agence France-Presse   | Wednesday October 05, 2022\n",
      "------------------------------------------------------------------------------------------\n",
      "News entry: 16\n",
      "France To Stop Hot Water Supply In Public Offices To Save Energy\n",
      "France will turn off the hot water in the toilets of public buildings and order municipalities to reduce water temperatures at public swimming pools by 1 degree Celsius as part of broader plans to reduce energy consumption.\n",
      "Reuters   | Wednesday October 05, 2022, Paris\n",
      "------------------------------------------------------------------------------------------\n",
      "News entry: 17\n",
      "11-Year-Old Girl Hit By Bullet At Garba Pandal Dies: Madhya Pradesh Cops\n",
      "An 11-year-old girl died after being hit by a bullet while watching Garba in Madhya Pradesh's Indore city, police said on Wednesday.\n",
      "Press Trust of India   | Wednesday October 05, 2022, Indore\n",
      "------------------------------------------------------------------------------------------\n"
     ]
    }
   ],
   "source": [
    "\n",
    "\n",
    "\n",
    "\"\"\"import requests\n",
    "from bs4 import BeautifulSoup\n",
    "addr = 'https://www.ndtv.com/latest'    \n",
    "page = requests.get(addr)\n",
    "print(page.status_code)\n",
    "#OP➡️SUCCESSFUL\n",
    "\n",
    "\n",
    "soup = BeautifulSoup(page.text)\n",
    "target = soup.find('div', attrs={'class':'lisingNews'})\n",
    "if target is not None:\n",
    "    print('target found')\n",
    "else:\n",
    "    print('could not find targetted area')\n",
    "\n",
    "\n",
    "news = target.find_all('div',attrs={'class':'news_Itm'})\n",
    "if news is not None:\n",
    "    print(len(news), 'news headlines found.')\n",
    "else:\n",
    "    print('Could not find the tags you are looking for')\n",
    "\n",
    "for idx, entry in enumerate(news):\n",
    "    title = entry.find('h2', attrs={'class':'newsHdng'})\n",
    "    summary = entry.find('p', attrs={'class':'newsCont'})\n",
    "    info = entry.find('span', attrs={'class':'posted-by'})\n",
    "    if title is not None:\n",
    "        print(f'News entry: {idx+1}')\n",
    "        print(title.text.strip())\n",
    "        print(summary.text.strip())\n",
    "        print(info.text.strip())\n",
    "        print('---------' * 10)\n",
    "    else:\n",
    "        print('no title found')\n",
    "        \n",
    "    \"\"\""
   ]
  },
  {
   "cell_type": "code",
   "execution_count": null,
   "metadata": {},
   "outputs": [],
   "source": []
  }
 ],
 "metadata": {
  "kernelspec": {
   "display_name": "Python 3.9.12 ('base')",
   "language": "python",
   "name": "python3"
  },
  "language_info": {
   "codemirror_mode": {
    "name": "ipython",
    "version": 3
   },
   "file_extension": ".py",
   "mimetype": "text/x-python",
   "name": "python",
   "nbconvert_exporter": "python",
   "pygments_lexer": "ipython3",
   "version": "3.9.12"
  },
  "orig_nbformat": 4,
  "vscode": {
   "interpreter": {
    "hash": "71337036f693cf9207c235ee4583659279574cf34825e1d3ad457f737f7d2262"
   }
  }
 },
 "nbformat": 4,
 "nbformat_minor": 2
}
