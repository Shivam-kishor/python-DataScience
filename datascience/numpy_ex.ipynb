{
 "cells": [
  {
   "cell_type": "code",
   "execution_count": 14,
   "metadata": {},
   "outputs": [
    {
     "name": "stdout",
     "output_type": "stream",
     "text": [
      "0 0\n",
      "0 1\n",
      "1 0\n",
      "1 1\n"
     ]
    }
   ],
   "source": [
    "#21-sep-2022\n",
    "x=[1,2],[8,4]\n",
    "y=[1,2],[3,4]\n",
    "\n",
    "z=[]\n",
    "for i in range(2):\n",
    "    for j in range(2):\n",
    "        print(i,j)"
   ]
  },
  {
   "cell_type": "code",
   "execution_count": 2,
   "metadata": {},
   "outputs": [
    {
     "name": "stdout",
     "output_type": "stream",
     "text": [
      "2\n",
      "4\n",
      "6\n",
      "8\n"
     ]
    }
   ],
   "source": [
    "x=[1,2],[3,4]\n",
    "y=[1,2],[3,4]\n",
    "\n",
    "z=[]\n",
    "for i in range(2):\n",
    "    for j in range(2):\n",
    "        ans=x[i][j]+y[i][j]\n",
    "        print(ans)"
   ]
  },
  {
   "cell_type": "code",
   "execution_count": null,
   "metadata": {},
   "outputs": [],
   "source": [
    "x=[1,2],[9,4]\n",
    "y=[1,2],[3,4]\n",
    "\n",
    "z=[]\n",
    "for i in range(2):\n",
    "    for j in range(2):\n",
    "        ans=x[i][j]+y[i][j]\n",
    "        print(ans)"
   ]
  },
  {
   "cell_type": "code",
   "execution_count": 2,
   "metadata": {},
   "outputs": [
    {
     "name": "stdout",
     "output_type": "stream",
     "text": [
      "Name: numpy\n",
      "Version: 1.23.1\n",
      "Summary: NumPy is the fundamental package for array computing with Python.\n",
      "Home-page: https://www.numpy.org\n",
      "Author: Travis E. Oliphant et al.\n",
      "Author-email: \n",
      "License: BSD\n",
      "Location: c:\\users\\shiva\\miniconda3\\lib\\site-packages\n",
      "Requires: \n",
      "Required-by: pgzero, pandas\n"
     ]
    }
   ],
   "source": [
    "!pip show numpy\n"
   ]
  },
  {
   "cell_type": "code",
   "execution_count": 4,
   "metadata": {},
   "outputs": [
    {
     "data": {
      "text/plain": [
       "tuple"
      ]
     },
     "execution_count": 4,
     "metadata": {},
     "output_type": "execute_result"
    }
   ],
   "source": [
    "#ndarray\n",
    "type(x)"
   ]
  },
  {
   "cell_type": "code",
   "execution_count": null,
   "metadata": {},
   "outputs": [],
   "source": []
  },
  {
   "cell_type": "code",
   "execution_count": 17,
   "metadata": {},
   "outputs": [
    {
     "name": "stdout",
     "output_type": "stream",
     "text": [
      "[[1 2]\n",
      " [4 7]]\n",
      "[[2 3]\n",
      " [4 7]]\n",
      "matrix shape (2, 2)\n"
     ]
    }
   ],
   "source": [
    "from turtle import shape\n",
    "#24 sep 2022\n",
    "\n",
    "import numpy as np\n",
    "x=[[1,2],[4,7]]\n",
    "y=[[2,3],[4,7]]\n",
    "nx=np.array(x)\n",
    "ny=np.array(y)\n",
    "print(nx)\n",
    "print(ny)\n",
    "print(\"matrix shape\",nx.shape)\n"
   ]
  },
  {
   "cell_type": "code",
   "execution_count": 18,
   "metadata": {},
   "outputs": [
    {
     "data": {
      "text/plain": [
       "array([[ 3,  5],\n",
       "       [ 8, 14]])"
      ]
     },
     "execution_count": 18,
     "metadata": {},
     "output_type": "execute_result"
    }
   ],
   "source": [
    "nx + ny"
   ]
  },
  {
   "cell_type": "code",
   "execution_count": 19,
   "metadata": {},
   "outputs": [
    {
     "data": {
      "text/plain": [
       "array([[ 6,  7],\n",
       "       [ 9, 12]])"
      ]
     },
     "execution_count": 19,
     "metadata": {},
     "output_type": "execute_result"
    }
   ],
   "source": [
    "#add 5 in all\n",
    "nx+5"
   ]
  },
  {
   "cell_type": "code",
   "execution_count": 22,
   "metadata": {},
   "outputs": [
    {
     "data": {
      "text/plain": [
       "array([0, 1, 2, 3, 4, 5, 6, 7, 8, 9])"
      ]
     },
     "execution_count": 22,
     "metadata": {},
     "output_type": "execute_result"
    }
   ],
   "source": [
    "np.arange(10) #0 to 19"
   ]
  },
  {
   "cell_type": "code",
   "execution_count": 25,
   "metadata": {},
   "outputs": [
    {
     "name": "stdout",
     "output_type": "stream",
     "text": [
      "[-10.    -9.99  -9.98 ...   9.97   9.98   9.99]\n",
      "(2000,)\n",
      "float64\n"
     ]
    }
   ],
   "source": [
    "a=np.arange(-10,10,.01)\n",
    "print(a)\n",
    "print(a.shape)\n",
    "print(a.dtype)\n"
   ]
  },
  {
   "cell_type": "code",
   "execution_count": 27,
   "metadata": {},
   "outputs": [
    {
     "name": "stdout",
     "output_type": "stream",
     "text": [
      "[  1   1   1   2   2   3   3   4   4   4   5   5   6   6   7   7   8   8\n",
      "   8   9   9  10  10  11  11  12  12  12  13  13  14  14  15  15  16  16\n",
      "  16  17  17  18  18  19  19  20  20  20  21  21  22  22  23  23  23  24\n",
      "  24  25  25  26  26  27  27  27  28  28  29  29  30  30  31  31  31  32\n",
      "  32  33  33  34  34  35  35  35  36  36  37  37  38  38  39  39  39  40\n",
      "  40  41  41  42  42  42  43  43  44  44  45  45  46  46  46  47  47  48\n",
      "  48  49  49  50  50  50  51  51  52  52  53  53  54  54  54  55  55  56\n",
      "  56  57  57  58  58  58  59  59  60  60  61  61  61  62  62  63  63  64\n",
      "  64  65  65  65  66  66  67  67  68  68  69  69  69  70  70  71  71  72\n",
      "  72  73  73  73  74  74  75  75  76  76  77  77  77  78  78  79  79  80\n",
      "  80  80  81  81  82  82  83  83  84  84  84  85  85  86  86  87  87  88\n",
      "  88  88  89  89  90  90  91  91  92  92  92  93  93  94  94  95  95  96\n",
      "  96  96  97  97  98  98  99  99 100]\n",
      "(225,)\n"
     ]
    },
    {
     "data": {
      "text/plain": [
       "array([[  1,   1,   1,   2,   2,   3,   3,   4,   4,   4,   5,   5,   6,\n",
       "          6,   7],\n",
       "       [  7,   8,   8,   8,   9,   9,  10,  10,  11,  11,  12,  12,  12,\n",
       "         13,  13],\n",
       "       [ 14,  14,  15,  15,  16,  16,  16,  17,  17,  18,  18,  19,  19,\n",
       "         20,  20],\n",
       "       [ 20,  21,  21,  22,  22,  23,  23,  23,  24,  24,  25,  25,  26,\n",
       "         26,  27],\n",
       "       [ 27,  27,  28,  28,  29,  29,  30,  30,  31,  31,  31,  32,  32,\n",
       "         33,  33],\n",
       "       [ 34,  34,  35,  35,  35,  36,  36,  37,  37,  38,  38,  39,  39,\n",
       "         39,  40],\n",
       "       [ 40,  41,  41,  42,  42,  42,  43,  43,  44,  44,  45,  45,  46,\n",
       "         46,  46],\n",
       "       [ 47,  47,  48,  48,  49,  49,  50,  50,  50,  51,  51,  52,  52,\n",
       "         53,  53],\n",
       "       [ 54,  54,  54,  55,  55,  56,  56,  57,  57,  58,  58,  58,  59,\n",
       "         59,  60],\n",
       "       [ 60,  61,  61,  61,  62,  62,  63,  63,  64,  64,  65,  65,  65,\n",
       "         66,  66],\n",
       "       [ 67,  67,  68,  68,  69,  69,  69,  70,  70,  71,  71,  72,  72,\n",
       "         73,  73],\n",
       "       [ 73,  74,  74,  75,  75,  76,  76,  77,  77,  77,  78,  78,  79,\n",
       "         79,  80],\n",
       "       [ 80,  80,  81,  81,  82,  82,  83,  83,  84,  84,  84,  85,  85,\n",
       "         86,  86],\n",
       "       [ 87,  87,  88,  88,  88,  89,  89,  90,  90,  91,  91,  92,  92,\n",
       "         92,  93],\n",
       "       [ 93,  94,  94,  95,  95,  96,  96,  96,  97,  97,  98,  98,  99,\n",
       "         99, 100]])"
      ]
     },
     "execution_count": 27,
     "metadata": {},
     "output_type": "execute_result"
    }
   ],
   "source": [
    "b=np.linspace(1,100,225,dtype=int)\n",
    "print(b)\n",
    "print(b.shape)\n",
    "b.reshape(15,15)\n"
   ]
  },
  {
   "cell_type": "code",
   "execution_count": 28,
   "metadata": {},
   "outputs": [
    {
     "data": {
      "text/plain": [
       "array([[[[  1,   1,   1],\n",
       "         [  2,   2,   3],\n",
       "         [  3,   4,   4],\n",
       "         [  4,   5,   5],\n",
       "         [  6,   6,   7]],\n",
       "\n",
       "        [[  7,   8,   8],\n",
       "         [  8,   9,   9],\n",
       "         [ 10,  10,  11],\n",
       "         [ 11,  12,  12],\n",
       "         [ 12,  13,  13]],\n",
       "\n",
       "        [[ 14,  14,  15],\n",
       "         [ 15,  16,  16],\n",
       "         [ 16,  17,  17],\n",
       "         [ 18,  18,  19],\n",
       "         [ 19,  20,  20]],\n",
       "\n",
       "        [[ 20,  21,  21],\n",
       "         [ 22,  22,  23],\n",
       "         [ 23,  23,  24],\n",
       "         [ 24,  25,  25],\n",
       "         [ 26,  26,  27]],\n",
       "\n",
       "        [[ 27,  27,  28],\n",
       "         [ 28,  29,  29],\n",
       "         [ 30,  30,  31],\n",
       "         [ 31,  31,  32],\n",
       "         [ 32,  33,  33]]],\n",
       "\n",
       "\n",
       "       [[[ 34,  34,  35],\n",
       "         [ 35,  35,  36],\n",
       "         [ 36,  37,  37],\n",
       "         [ 38,  38,  39],\n",
       "         [ 39,  39,  40]],\n",
       "\n",
       "        [[ 40,  41,  41],\n",
       "         [ 42,  42,  42],\n",
       "         [ 43,  43,  44],\n",
       "         [ 44,  45,  45],\n",
       "         [ 46,  46,  46]],\n",
       "\n",
       "        [[ 47,  47,  48],\n",
       "         [ 48,  49,  49],\n",
       "         [ 50,  50,  50],\n",
       "         [ 51,  51,  52],\n",
       "         [ 52,  53,  53]],\n",
       "\n",
       "        [[ 54,  54,  54],\n",
       "         [ 55,  55,  56],\n",
       "         [ 56,  57,  57],\n",
       "         [ 58,  58,  58],\n",
       "         [ 59,  59,  60]],\n",
       "\n",
       "        [[ 60,  61,  61],\n",
       "         [ 61,  62,  62],\n",
       "         [ 63,  63,  64],\n",
       "         [ 64,  65,  65],\n",
       "         [ 65,  66,  66]]],\n",
       "\n",
       "\n",
       "       [[[ 67,  67,  68],\n",
       "         [ 68,  69,  69],\n",
       "         [ 69,  70,  70],\n",
       "         [ 71,  71,  72],\n",
       "         [ 72,  73,  73]],\n",
       "\n",
       "        [[ 73,  74,  74],\n",
       "         [ 75,  75,  76],\n",
       "         [ 76,  77,  77],\n",
       "         [ 77,  78,  78],\n",
       "         [ 79,  79,  80]],\n",
       "\n",
       "        [[ 80,  80,  81],\n",
       "         [ 81,  82,  82],\n",
       "         [ 83,  83,  84],\n",
       "         [ 84,  84,  85],\n",
       "         [ 85,  86,  86]],\n",
       "\n",
       "        [[ 87,  87,  88],\n",
       "         [ 88,  88,  89],\n",
       "         [ 89,  90,  90],\n",
       "         [ 91,  91,  92],\n",
       "         [ 92,  92,  93]],\n",
       "\n",
       "        [[ 93,  94,  94],\n",
       "         [ 95,  95,  96],\n",
       "         [ 96,  96,  97],\n",
       "         [ 97,  98,  98],\n",
       "         [ 99,  99, 100]]]])"
      ]
     },
     "execution_count": 28,
     "metadata": {},
     "output_type": "execute_result"
    }
   ],
   "source": [
    "b.reshape(3,5,5,3)#4d array"
   ]
  },
  {
   "cell_type": "code",
   "execution_count": 29,
   "metadata": {},
   "outputs": [
    {
     "data": {
      "text/plain": [
       "array([[0.84274543, 0.18787181, 0.80462945],\n",
       "       [0.00561397, 0.25772179, 0.33885922],\n",
       "       [0.16341681, 0.44087882, 0.7217252 ]])"
      ]
     },
     "execution_count": 29,
     "metadata": {},
     "output_type": "execute_result"
    }
   ],
   "source": [
    "np.random.rand(3,3)#random any number"
   ]
  },
  {
   "cell_type": "code",
   "execution_count": 31,
   "metadata": {},
   "outputs": [
    {
     "data": {
      "text/plain": [
       "array([[16, 94, 20],\n",
       "       [36, 24, 64],\n",
       "       [54, 51, 72]])"
      ]
     },
     "execution_count": 31,
     "metadata": {},
     "output_type": "execute_result"
    }
   ],
   "source": [
    "np.random.randint(1,100,size=(3,3))#randok inmtegr bw 1 to 100"
   ]
  },
  {
   "cell_type": "code",
   "execution_count": 36,
   "metadata": {},
   "outputs": [
    {
     "name": "stdout",
     "output_type": "stream",
     "text": [
      "[3 6 2 5 6 4 2 6 4 6 3 2 5 1 6 1 8 9 2 8 5 4 6 5 8 5 3 1 9 2 8 9 6 7 9 3 5\n",
      " 7 2 4 6 9 4 2 8 5 9 6 7 7 1 5 9 2 5 2 8 1 5 8 1 2 6 8 9 6 7 6 6 1 8 8 6 5\n",
      " 4 7 2 8 7 4 4 7 3 4 6 3 4 5 1 9 9 3 2 2 3 2 3 8 5 8]\n",
      "first element: 3\n",
      "last element: 8\n",
      "first  6 element: [3 6 2 5 6 4]\n",
      "last  6 element: [3 2 3 8 5 8]\n"
     ]
    }
   ],
   "source": [
    "from random import random\n",
    "x=np.random.randint(1,10,100)\n",
    "print(x)\n",
    "print('first element:',x[0])\n",
    "print('last element:',x[-1])\n",
    "print('first  6 element:',x[:6])\n",
    "print('last  6 element:',x[-6:])"
   ]
  },
  {
   "cell_type": "markdown",
   "metadata": {},
   "source": [
    "#for 2d matrix \n",
    "- single row=array[row,coloumn]\n",
    "----\n",
    "-single row=array[row]\n",
    "----\n",
    "single coloumn=array[:,column] \n",
    "----\n",
    "multiple row=array[row1:row2]\n",
    "----\n",
    "multiple columns=array[:,column1:column2]\n",
    "----\n",
    "multiple row and column=array[row1:row2,column1:column2]"
   ]
  },
  {
   "cell_type": "code",
   "execution_count": 49,
   "metadata": {},
   "outputs": [
    {
     "name": "stdout",
     "output_type": "stream",
     "text": [
      "[[3 6 2 5 6 4 2 6 4 6]\n",
      " [3 2 5 1 6 1 8 9 2 8]\n",
      " [5 4 6 5 8 5 3 1 9 2]\n",
      " [8 9 6 7 9 3 5 7 2 4]\n",
      " [6 9 4 2 8 5 9 6 7 7]\n",
      " [1 5 9 2 5 2 8 1 5 8]\n",
      " [1 2 6 8 9 6 7 6 6 1]\n",
      " [8 8 6 5 4 7 2 8 7 4]\n",
      " [4 7 3 4 6 3 4 5 1 9]\n",
      " [9 3 2 2 3 2 3 8 5 8]]\n",
      "first element : 3 or 3\n",
      "last element : 8 or 8\n",
      "first row : [3 6 2 5 6 4 2 6 4 6]\n",
      "last row : [9 3 2 2 3 2 3 8 5 8]\n",
      "first column : [3 3 5 8 6 1 1 8 4 9]\n",
      "last column : [6 8 2 4 7 8 1 4 9 8]\n",
      "3rd row [5 4 6 5 8 5 3 1 9 2]\n",
      "3rd column [2 5 6 6 4 9 6 6 3 2]\n",
      "fist 3 row and 3 column [[3 6 2]\n",
      " [3 2 5]\n",
      " [5 4 6]]\n"
     ]
    }
   ],
   "source": [
    "x2=x.reshape(10,10)\n",
    "print(x2)\n",
    "print('first element :',x2[0,0],'or',x2[0][0])\n",
    "print('last element :',x2[-1,-1],'or',x2[-1][-1])\n",
    "print('first row :',x2[0])\n",
    "print('last row :',x2[-1])\n",
    "print('first column :',x2[:,0])\n",
    "print('last column :',x2[:,-1])\n",
    "print('3rd row',x2[2])\n",
    "print('3rd column',x2[:,2])\n",
    "print('fist 3 row and 3 column',x2[:3,:3])"
   ]
  },
  {
   "cell_type": "code",
   "execution_count": 61,
   "metadata": {},
   "outputs": [
    {
     "name": "stdout",
     "output_type": "stream",
     "text": [
      "[[920  28 744 494 270 778 102 866 719 602]\n",
      " [361  92 247  40 480 851 650 523 508 715]\n",
      " [ 82 944 814 752 981  90  70 768 195 628]\n",
      " [256 845 965  94 526 153 196 158 318 875]\n",
      " [147 398 165 126 155 287 335 682 880 109]\n",
      " [831 231  46 145 532 541 180 603 589 415]\n",
      " [580 251 474  57 937 398 269 319 124 924]\n",
      " [636 218 236 191 763 958 816 510 447  45]\n",
      " [340 909 336 645 921 842 564 978 456  90]\n",
      " [513 669 186 835 119 783 644 291 848 649]]\n"
     ]
    }
   ],
   "source": [
    "y=np.random.randint(1,1000,(10,10))\n",
    "print(y)"
   ]
  },
  {
   "cell_type": "code",
   "execution_count": 57,
   "metadata": {},
   "outputs": [
    {
     "name": "stdout",
     "output_type": "stream",
     "text": [
      "75 193 205 485 430 187 221 39 91 403 31 474 28 400 235 378 397 382 39 356 70 222 204 286 28 434 374 118 479 187 69 115 44 479 18 416 160 493 40 127 459 18 477 111 280 165 251 311 197 112 330 440 "
     ]
    },
    {
     "data": {
      "text/plain": [
       "array([ 75, 193, 205, 485, 430, 187, 221,  39,  91, 403,  31, 474,  28,\n",
       "       400, 235, 378, 397, 382,  39, 356,  70, 222, 204, 286,  28, 434,\n",
       "       374, 118, 479, 187,  69, 115,  44, 479,  18, 416, 160, 493,  40,\n",
       "       127, 459,  18, 477, 111, 280, 165, 251, 311, 197, 112, 330, 440])"
      ]
     },
     "execution_count": 57,
     "metadata": {},
     "output_type": "execute_result"
    }
   ],
   "source": [
    "for i in y:\n",
    "    for j in i:\n",
    "        if j< 500:\n",
    "            print(j,end=' ')\n",
    "\n",
    "            #or\n",
    "           \n",
    "y[y<500]#boolean "
   ]
  },
  {
   "cell_type": "code",
   "execution_count": 58,
   "metadata": {},
   "outputs": [
    {
     "data": {
      "text/plain": [
       "array([485, 672, 708, 430, 679, 584, 536, 403, 474, 400, 598, 378, 397,\n",
       "       615, 536, 382, 603, 356, 501, 655, 286, 512, 434, 374, 479, 479,\n",
       "       620, 416, 493, 630, 459, 477, 280, 547, 525, 251, 311, 592, 690,\n",
       "       330, 540, 591, 506, 574, 440, 532, 505])"
      ]
     },
     "execution_count": 58,
     "metadata": {},
     "output_type": "execute_result"
    }
   ],
   "source": [
    "y[(y>250) & (y<750)]#bitwise and is used"
   ]
  },
  {
   "cell_type": "code",
   "execution_count": 63,
   "metadata": {},
   "outputs": [
    {
     "name": "stdout",
     "output_type": "stream",
     "text": [
      "sum of all values: 47868\n",
      "sum of each row: [5523 4467 5324 4386 3284 4113 4333 4820 6081 5537]\n",
      "sum of each column: [4666 4585 4213 3379 5684 5681 3826 5698 5084 5052]\n",
      "----------------------------------\n",
      "mean of all values: 478.68\n",
      "mean of each row: [552.3 446.7 532.4 438.6 328.4 411.3 433.3 482.  608.1 553.7]\n",
      "mean of each column [466.6 458.5 421.3 337.9 568.4 568.1 382.6 569.8 508.4 505.2]\n",
      "-------------------------------------\n",
      "standard deviation of all values 296.68187946013825\n",
      "standard deviation of each row [302.04504631 250.18075466 359.03431591 320.33363857 247.92587602\n",
      " 237.95926122 288.00765615 291.32112865 286.49029652 253.70969631]\n",
      "standard deviation of each column [265.26597973 332.91417813 298.43493428 294.63416299 306.7801167\n",
      " 301.14596129 250.61252961 249.66209164 243.51886991 308.31406066]\n",
      "----------------------------------\n",
      "min and max of all values 28 981\n",
      "min and max of each row [ 28  40  70  94 109  46  57  45  90 119] [920 851 981 965 880 831 937 958 978 848]\n",
      "min and max of each column [ 82  28  46  40 119  90  70 158 124  45] [920 944 965 835 981 958 816 978 880 924]\n"
     ]
    }
   ],
   "source": [
    "print('sum of all values:',y.sum())\n",
    "print('sum of each row:',y.sum(axis=1))\n",
    "print('sum of each column:',y.sum(axis=0))\n",
    "print('----------------------------------')\n",
    "\n",
    "\n",
    "print('mean of all values:',y.mean())\n",
    "print('mean of each row:',y.mean(axis=1))\n",
    "print('mean of each column',y.mean(axis=0))\n",
    "print(\"-------------------------------------\")\n",
    "print(\"standard deviation of all values\",y.std())\n",
    "print(\"standard deviation of each row\",y.std(axis=1))\n",
    "print(\"standard deviation of each column\",y.std(axis=0))\n",
    "print('----------------------------------')\n",
    "\n",
    "print(\"min and max of all values\",y.min(),y.max())\n",
    "print(\"min and max of each row\",y.min(axis=1),y.max(axis=1))\n",
    "print(\"min and max of each column\",y.min(axis=0),y.max(axis=0))"
   ]
  },
  {
   "cell_type": "code",
   "execution_count": 2,
   "metadata": {},
   "outputs": [
    {
     "name": "stdout",
     "output_type": "stream",
     "text": [
      "['Solarize_Light2', '_classic_test_patch', '_mpl-gallery', '_mpl-gallery-nogrid', 'bmh', 'classic', 'dark_background', 'fast', 'fivethirtyeight', 'ggplot', 'grayscale', 'seaborn-v0_8', 'seaborn-v0_8-bright', 'seaborn-v0_8-colorblind', 'seaborn-v0_8-dark', 'seaborn-v0_8-dark-palette', 'seaborn-v0_8-darkgrid', 'seaborn-v0_8-deep', 'seaborn-v0_8-muted', 'seaborn-v0_8-notebook', 'seaborn-v0_8-paper', 'seaborn-v0_8-pastel', 'seaborn-v0_8-poster', 'seaborn-v0_8-talk', 'seaborn-v0_8-ticks', 'seaborn-v0_8-white', 'seaborn-v0_8-whitegrid', 'tableau-colorblind10']\n"
     ]
    }
   ],
   "source": [
    "print(plt.style.available)\n",
    "plt.style.use('tableau-colorblind10')"
   ]
  },
  {
   "cell_type": "code",
   "execution_count": 5,
   "metadata": {},
   "outputs": [
    {
     "ename": "NameError",
     "evalue": "name 'np' is not defined",
     "output_type": "error",
     "traceback": [
      "\u001b[1;31m---------------------------------------------------------------------------\u001b[0m",
      "\u001b[1;31mNameError\u001b[0m                                 Traceback (most recent call last)",
      "\u001b[1;32mc:\\Users\\Shiva\\Documents\\python DataScience\\datascience\\numpy_ex.ipynb Cell 24\u001b[0m in \u001b[0;36m<cell line: 5>\u001b[1;34m()\u001b[0m\n\u001b[0;32m      <a href='vscode-notebook-cell:/c%3A/Users/Shiva/Documents/python%20DataScience/datascience/numpy_ex.ipynb#X32sZmlsZQ%3D%3D?line=1'>2</a>\u001b[0m \u001b[39mimport\u001b[39;00m \u001b[39mmatplotlib\u001b[39;00m\u001b[39m.\u001b[39;00m\u001b[39mpyplot\u001b[39;00m \u001b[39mas\u001b[39;00m \u001b[39mplt\u001b[39;00m\n\u001b[0;32m      <a href='vscode-notebook-cell:/c%3A/Users/Shiva/Documents/python%20DataScience/datascience/numpy_ex.ipynb#X32sZmlsZQ%3D%3D?line=2'>3</a>\u001b[0m plt\u001b[39m.\u001b[39mfigure(figsize\u001b[39m=\u001b[39m(\u001b[39m10\u001b[39m,\u001b[39m20\u001b[39m))\n\u001b[1;32m----> <a href='vscode-notebook-cell:/c%3A/Users/Shiva/Documents/python%20DataScience/datascience/numpy_ex.ipynb#X32sZmlsZQ%3D%3D?line=4'>5</a>\u001b[0m t\u001b[39m=\u001b[39mnp\u001b[39m.\u001b[39mlinspace(\u001b[39m0\u001b[39m,\u001b[39m4\u001b[39m\u001b[39m*\u001b[39mnp\u001b[39m.\u001b[39mpi,\u001b[39m50\u001b[39m)\n\u001b[0;32m      <a href='vscode-notebook-cell:/c%3A/Users/Shiva/Documents/python%20DataScience/datascience/numpy_ex.ipynb#X32sZmlsZQ%3D%3D?line=5'>6</a>\u001b[0m x\u001b[39m=\u001b[39mnp\u001b[39m.\u001b[39msin(t)\n\u001b[0;32m      <a href='vscode-notebook-cell:/c%3A/Users/Shiva/Documents/python%20DataScience/datascience/numpy_ex.ipynb#X32sZmlsZQ%3D%3D?line=6'>7</a>\u001b[0m y\u001b[39m=\u001b[39mnp\u001b[39m.\u001b[39mcos(t)\n",
      "\u001b[1;31mNameError\u001b[0m: name 'np' is not defined"
     ]
    },
    {
     "data": {
      "text/plain": [
       "<Figure size 720x1440 with 0 Axes>"
      ]
     },
     "metadata": {},
     "output_type": "display_data"
    }
   ],
   "source": [
    "#from cProfile import label\n",
    "import matplotlib.pyplot as plt\n",
    "plt.figure(figsize=(10,20))\n",
    "\n",
    "t=np.linspace(0,4*np.pi,50)\n",
    "x=np.sin(t)\n",
    "y=np.cos(t)\n",
    "z=np.tan(t)\n",
    "plt.plot(t,x,label='sin(t)',color='green',linewidth=3,marker='o',markersize=10)\n",
    "plt.plot(t,y,label='cos(y)',color='hotpink',linewidth=3,marker='2',linestyle='--')\n",
    "plt.text(10,0.5,'sin(t)',fontsize=20)\n",
    "plt.text(7,0.5,'cos(t)',fontsize=20)\n",
    "plt.legend()\n",
    "plt.plot(t,z)\n",
    "plt.grid(False)"
   ]
  },
  {
   "cell_type": "markdown",
   "metadata": {},
   "source": [
    "import matplotlib.pyplot as plt"
   ]
  }
 ],
 "metadata": {
  "kernelspec": {
   "display_name": "Python 3.9.12 ('base')",
   "language": "python",
   "name": "python3"
  },
  "language_info": {
   "codemirror_mode": {
    "name": "ipython",
    "version": 3
   },
   "file_extension": ".py",
   "mimetype": "text/x-python",
   "name": "python",
   "nbconvert_exporter": "python",
   "pygments_lexer": "ipython3",
   "version": "3.9.12"
  },
  "orig_nbformat": 4,
  "vscode": {
   "interpreter": {
    "hash": "71337036f693cf9207c235ee4583659279574cf34825e1d3ad457f737f7d2262"
   }
  }
 },
 "nbformat": 4,
 "nbformat_minor": 2
}
