{
 "cells": [
  {
   "cell_type": "code",
   "execution_count": 141,
   "metadata": {},
   "outputs": [
    {
     "name": "stdout",
     "output_type": "stream",
     "text": [
      "Name: numpy\n",
      "Version: 1.23.1\n",
      "Summary: NumPy is the fundamental package for array computing with Python.\n",
      "Home-page: https://www.numpy.org\n",
      "Author: Travis E. Oliphant et al.\n",
      "Author-email: \n",
      "License: BSD\n",
      "Location: c:\\users\\shiva\\miniconda3\\lib\\site-packages\n",
      "Requires: \n",
      "Required-by: pgzero, pandas, matplotlib, contourpy\n"
     ]
    }
   ],
   "source": [
    "!pip show numpy"
   ]
  },
  {
   "cell_type": "code",
   "execution_count": 117,
   "metadata": {},
   "outputs": [
    {
     "name": "stdout",
     "output_type": "stream",
     "text": [
      "[0] [0]\n",
      "[0] [1]\n",
      "[1] [0]\n",
      "[1] [1]\n"
     ]
    }
   ],
   "source": [
    "#21-sep-2022\n",
    "\n",
    "#2*2 matrix\n",
    "#row and column index values print\n",
    "#row=[1,2],[3,4]\n",
    "column=[5,6],[7,8]\n",
    "\n",
    "for row in range(2): \n",
    "    for column in range(2):\n",
    "        \n",
    "        #   print(i,j)\n",
    "                #OR\n",
    "        print([row],[column] )"
   ]
  },
  {
   "cell_type": "code",
   "execution_count": 119,
   "metadata": {},
   "outputs": [
    {
     "name": "stdout",
     "output_type": "stream",
     "text": [
      "0 0\n",
      "0 1\n",
      "1 0\n",
      "1 1\n"
     ]
    }
   ],
   "source": [
    "#print in 2*2 matrix VIEW'S\n",
    "row=[1,2],[3,4]\n",
    "column=[5,6],[7,8]\n",
    "            \n",
    "for row in range(2): \n",
    "    for column in range(2):\n",
    "        print(row,column)"
   ]
  },
  {
   "cell_type": "code",
   "execution_count": 145,
   "metadata": {},
   "outputs": [
    {
     "name": "stdout",
     "output_type": "stream",
     "text": [
      "6\n",
      "8\n",
      "10\n",
      "1090\n"
     ]
    }
   ],
   "source": [
    "#addition of two matrix\n",
    "row=[1,2],[3,999]\n",
    "\n",
    "column=[5,6],[7,91]\n",
    "\n",
    "for i in range(2):\n",
    "    for j in range(2):\n",
    "        ans=x[i][j]+y[i][j]\n",
    "            #OR\n",
    "        ans=row[i][j]+column[i][j]\n",
    "        print(ans)"
   ]
  },
  {
   "cell_type": "code",
   "execution_count": 155,
   "metadata": {},
   "outputs": [
    {
     "data": {
      "text/plain": [
       "float"
      ]
     },
     "execution_count": 155,
     "metadata": {},
     "output_type": "execute_result"
    }
   ],
   "source": [
    "# Python type() is a built-in function that is used to return the type of data stored in the objects or variables in the program. For example\n",
    "type(45.7)"
   ]
  },
  {
   "cell_type": "code",
   "execution_count": 165,
   "metadata": {},
   "outputs": [
    {
     "name": "stdout",
     "output_type": "stream",
     "text": [
      "[[1 2]\n",
      " [3 4]]\n",
      "[[5 6]\n",
      " [7 8]]\n",
      "matrix shape (2, 2)\n"
     ]
    }
   ],
   "source": [
    "#24 sep 2022\n",
    "\n",
    "import numpy as np\n",
    "    #OR\n",
    "import numpy \n",
    "row=[[1,2],[3,4]]\n",
    "column=[[5,6],[7,8]]\n",
    "n_row=np.array(row)\n",
    "n_column=np.array(column)\n",
    "print(n_row)\n",
    "print(n_column)\n",
    "\n",
    "print(\"matrix shape\",nx.shape)\n",
    "#type(row)\n"
   ]
  },
  {
   "cell_type": "code",
   "execution_count": 168,
   "metadata": {},
   "outputs": [
    {
     "data": {
      "text/plain": [
       "array([[ 6,  8],\n",
       "       [10, 12]])"
      ]
     },
     "execution_count": 168,
     "metadata": {},
     "output_type": "execute_result"
    }
   ],
   "source": [
    "#how this run?\n",
    "nx+ny"
   ]
  },
  {
   "cell_type": "code",
   "execution_count": 167,
   "metadata": {},
   "outputs": [
    {
     "data": {
      "text/plain": [
       "array([[ 6,  8],\n",
       "       [10, 12]])"
      ]
     },
     "execution_count": 167,
     "metadata": {},
     "output_type": "execute_result"
    }
   ],
   "source": [
    "n_row + n_column"
   ]
  },
  {
   "cell_type": "code",
   "execution_count": 178,
   "metadata": {},
   "outputs": [
    {
     "data": {
      "text/plain": [
       "array([[11, 13],\n",
       "       [15, 17]])"
      ]
     },
     "execution_count": 178,
     "metadata": {},
     "output_type": "execute_result"
    }
   ],
   "source": [
    "#add 5 in all\n",
    "n_row+n_column+5 #row=[[1,2],[3,4]]\n",
    "            #column=[[5,6],[7,8]]\n"
   ]
  },
  {
   "cell_type": "code",
   "execution_count": 190,
   "metadata": {},
   "outputs": [
    {
     "data": {
      "text/plain": [
       "array([ 0,  1,  2,  3,  4,  5,  6,  7,  8,  9, 10, 11, 12, 13, 14, 15, 16,\n",
       "       17, 18, 19])"
      ]
     },
     "execution_count": 190,
     "metadata": {},
     "output_type": "execute_result"
    }
   ],
   "source": [
    "np.arange(20) #0 to 19"
   ]
  },
  {
   "cell_type": "code",
   "execution_count": 189,
   "metadata": {},
   "outputs": [
    {
     "name": "stdout",
     "output_type": "stream",
     "text": [
      "<built-in function array>\n"
     ]
    },
    {
     "data": {
      "text/plain": [
       "builtin_function_or_method"
      ]
     },
     "execution_count": 189,
     "metadata": {},
     "output_type": "execute_result"
    }
   ],
   "source": [
    "print(np.array)\n",
    "type(numpy.array)"
   ]
  },
  {
   "cell_type": "code",
   "execution_count": 203,
   "metadata": {},
   "outputs": [
    {
     "name": "stdout",
     "output_type": "stream",
     "text": [
      "[-10.   -9.5  -9.   -8.5  -8.   -7.5  -7.   -6.5  -6.   -5.5  -5.   -4.5\n",
      "  -4.   -3.5  -3.   -2.5  -2.   -1.5  -1.   -0.5   0.    0.5   1.    1.5\n",
      "   2.    2.5   3.    3.5   4.    4.5   5.    5.5   6.    6.5   7.    7.5\n",
      "   8.    8.5   9.    9.5]\n",
      "(40,)\n",
      "float64\n"
     ]
    }
   ],
   "source": [
    "a=np.arange(-10,10,.5)\n",
    "print(a)\n",
    "print(a.shape)\n",
    "print(a.dtype)#describes how the bytes in the fixed-size block of memory corresponding to an array item should be interpreted\n"
   ]
  },
  {
   "cell_type": "code",
   "execution_count": 27,
   "metadata": {},
   "outputs": [
    {
     "name": "stdout",
     "output_type": "stream",
     "text": [
      "[  1   1   1   2   2   3   3   4   4   4   5   5   6   6   7   7   8   8\n",
      "   8   9   9  10  10  11  11  12  12  12  13  13  14  14  15  15  16  16\n",
      "  16  17  17  18  18  19  19  20  20  20  21  21  22  22  23  23  23  24\n",
      "  24  25  25  26  26  27  27  27  28  28  29  29  30  30  31  31  31  32\n",
      "  32  33  33  34  34  35  35  35  36  36  37  37  38  38  39  39  39  40\n",
      "  40  41  41  42  42  42  43  43  44  44  45  45  46  46  46  47  47  48\n",
      "  48  49  49  50  50  50  51  51  52  52  53  53  54  54  54  55  55  56\n",
      "  56  57  57  58  58  58  59  59  60  60  61  61  61  62  62  63  63  64\n",
      "  64  65  65  65  66  66  67  67  68  68  69  69  69  70  70  71  71  72\n",
      "  72  73  73  73  74  74  75  75  76  76  77  77  77  78  78  79  79  80\n",
      "  80  80  81  81  82  82  83  83  84  84  84  85  85  86  86  87  87  88\n",
      "  88  88  89  89  90  90  91  91  92  92  92  93  93  94  94  95  95  96\n",
      "  96  96  97  97  98  98  99  99 100]\n",
      "(225,)\n"
     ]
    },
    {
     "data": {
      "text/plain": [
       "array([[  1,   1,   1,   2,   2,   3,   3,   4,   4,   4,   5,   5,   6,\n",
       "          6,   7],\n",
       "       [  7,   8,   8,   8,   9,   9,  10,  10,  11,  11,  12,  12,  12,\n",
       "         13,  13],\n",
       "       [ 14,  14,  15,  15,  16,  16,  16,  17,  17,  18,  18,  19,  19,\n",
       "         20,  20],\n",
       "       [ 20,  21,  21,  22,  22,  23,  23,  23,  24,  24,  25,  25,  26,\n",
       "         26,  27],\n",
       "       [ 27,  27,  28,  28,  29,  29,  30,  30,  31,  31,  31,  32,  32,\n",
       "         33,  33],\n",
       "       [ 34,  34,  35,  35,  35,  36,  36,  37,  37,  38,  38,  39,  39,\n",
       "         39,  40],\n",
       "       [ 40,  41,  41,  42,  42,  42,  43,  43,  44,  44,  45,  45,  46,\n",
       "         46,  46],\n",
       "       [ 47,  47,  48,  48,  49,  49,  50,  50,  50,  51,  51,  52,  52,\n",
       "         53,  53],\n",
       "       [ 54,  54,  54,  55,  55,  56,  56,  57,  57,  58,  58,  58,  59,\n",
       "         59,  60],\n",
       "       [ 60,  61,  61,  61,  62,  62,  63,  63,  64,  64,  65,  65,  65,\n",
       "         66,  66],\n",
       "       [ 67,  67,  68,  68,  69,  69,  69,  70,  70,  71,  71,  72,  72,\n",
       "         73,  73],\n",
       "       [ 73,  74,  74,  75,  75,  76,  76,  77,  77,  77,  78,  78,  79,\n",
       "         79,  80],\n",
       "       [ 80,  80,  81,  81,  82,  82,  83,  83,  84,  84,  84,  85,  85,\n",
       "         86,  86],\n",
       "       [ 87,  87,  88,  88,  88,  89,  89,  90,  90,  91,  91,  92,  92,\n",
       "         92,  93],\n",
       "       [ 93,  94,  94,  95,  95,  96,  96,  96,  97,  97,  98,  98,  99,\n",
       "         99, 100]])"
      ]
     },
     "execution_count": 27,
     "metadata": {},
     "output_type": "execute_result"
    }
   ],
   "source": [
    "b=np.linspace(1,100,225,dtype=int)\n",
    "print(b)\n",
    "print(b.shape)\n",
    "b.reshape(15,15)\n"
   ]
  },
  {
   "cell_type": "code",
   "execution_count": 28,
   "metadata": {},
   "outputs": [
    {
     "data": {
      "text/plain": [
       "array([[[[  1,   1,   1],\n",
       "         [  2,   2,   3],\n",
       "         [  3,   4,   4],\n",
       "         [  4,   5,   5],\n",
       "         [  6,   6,   7]],\n",
       "\n",
       "        [[  7,   8,   8],\n",
       "         [  8,   9,   9],\n",
       "         [ 10,  10,  11],\n",
       "         [ 11,  12,  12],\n",
       "         [ 12,  13,  13]],\n",
       "\n",
       "        [[ 14,  14,  15],\n",
       "         [ 15,  16,  16],\n",
       "         [ 16,  17,  17],\n",
       "         [ 18,  18,  19],\n",
       "         [ 19,  20,  20]],\n",
       "\n",
       "        [[ 20,  21,  21],\n",
       "         [ 22,  22,  23],\n",
       "         [ 23,  23,  24],\n",
       "         [ 24,  25,  25],\n",
       "         [ 26,  26,  27]],\n",
       "\n",
       "        [[ 27,  27,  28],\n",
       "         [ 28,  29,  29],\n",
       "         [ 30,  30,  31],\n",
       "         [ 31,  31,  32],\n",
       "         [ 32,  33,  33]]],\n",
       "\n",
       "\n",
       "       [[[ 34,  34,  35],\n",
       "         [ 35,  35,  36],\n",
       "         [ 36,  37,  37],\n",
       "         [ 38,  38,  39],\n",
       "         [ 39,  39,  40]],\n",
       "\n",
       "        [[ 40,  41,  41],\n",
       "         [ 42,  42,  42],\n",
       "         [ 43,  43,  44],\n",
       "         [ 44,  45,  45],\n",
       "         [ 46,  46,  46]],\n",
       "\n",
       "        [[ 47,  47,  48],\n",
       "         [ 48,  49,  49],\n",
       "         [ 50,  50,  50],\n",
       "         [ 51,  51,  52],\n",
       "         [ 52,  53,  53]],\n",
       "\n",
       "        [[ 54,  54,  54],\n",
       "         [ 55,  55,  56],\n",
       "         [ 56,  57,  57],\n",
       "         [ 58,  58,  58],\n",
       "         [ 59,  59,  60]],\n",
       "\n",
       "        [[ 60,  61,  61],\n",
       "         [ 61,  62,  62],\n",
       "         [ 63,  63,  64],\n",
       "         [ 64,  65,  65],\n",
       "         [ 65,  66,  66]]],\n",
       "\n",
       "\n",
       "       [[[ 67,  67,  68],\n",
       "         [ 68,  69,  69],\n",
       "         [ 69,  70,  70],\n",
       "         [ 71,  71,  72],\n",
       "         [ 72,  73,  73]],\n",
       "\n",
       "        [[ 73,  74,  74],\n",
       "         [ 75,  75,  76],\n",
       "         [ 76,  77,  77],\n",
       "         [ 77,  78,  78],\n",
       "         [ 79,  79,  80]],\n",
       "\n",
       "        [[ 80,  80,  81],\n",
       "         [ 81,  82,  82],\n",
       "         [ 83,  83,  84],\n",
       "         [ 84,  84,  85],\n",
       "         [ 85,  86,  86]],\n",
       "\n",
       "        [[ 87,  87,  88],\n",
       "         [ 88,  88,  89],\n",
       "         [ 89,  90,  90],\n",
       "         [ 91,  91,  92],\n",
       "         [ 92,  92,  93]],\n",
       "\n",
       "        [[ 93,  94,  94],\n",
       "         [ 95,  95,  96],\n",
       "         [ 96,  96,  97],\n",
       "         [ 97,  98,  98],\n",
       "         [ 99,  99, 100]]]])"
      ]
     },
     "execution_count": 28,
     "metadata": {},
     "output_type": "execute_result"
    }
   ],
   "source": [
    "b.reshape(3,5,5,3)#4d array"
   ]
  },
  {
   "cell_type": "code",
   "execution_count": 29,
   "metadata": {},
   "outputs": [
    {
     "data": {
      "text/plain": [
       "array([[0.84274543, 0.18787181, 0.80462945],\n",
       "       [0.00561397, 0.25772179, 0.33885922],\n",
       "       [0.16341681, 0.44087882, 0.7217252 ]])"
      ]
     },
     "execution_count": 29,
     "metadata": {},
     "output_type": "execute_result"
    }
   ],
   "source": [
    "np.random.rand(3,3)#random any number"
   ]
  },
  {
   "cell_type": "code",
   "execution_count": 31,
   "metadata": {},
   "outputs": [
    {
     "data": {
      "text/plain": [
       "array([[16, 94, 20],\n",
       "       [36, 24, 64],\n",
       "       [54, 51, 72]])"
      ]
     },
     "execution_count": 31,
     "metadata": {},
     "output_type": "execute_result"
    }
   ],
   "source": [
    "np.random.randint(1,100,size=(3,3))#randok inmtegr bw 1 to 100"
   ]
  },
  {
   "cell_type": "code",
   "execution_count": 36,
   "metadata": {},
   "outputs": [
    {
     "name": "stdout",
     "output_type": "stream",
     "text": [
      "[3 6 2 5 6 4 2 6 4 6 3 2 5 1 6 1 8 9 2 8 5 4 6 5 8 5 3 1 9 2 8 9 6 7 9 3 5\n",
      " 7 2 4 6 9 4 2 8 5 9 6 7 7 1 5 9 2 5 2 8 1 5 8 1 2 6 8 9 6 7 6 6 1 8 8 6 5\n",
      " 4 7 2 8 7 4 4 7 3 4 6 3 4 5 1 9 9 3 2 2 3 2 3 8 5 8]\n",
      "first element: 3\n",
      "last element: 8\n",
      "first  6 element: [3 6 2 5 6 4]\n",
      "last  6 element: [3 2 3 8 5 8]\n"
     ]
    }
   ],
   "source": [
    "from random import random\n",
    "x=np.random.randint(1,10,100)\n",
    "print(x)\n",
    "print('first element:',x[0])\n",
    "print('last element:',x[-1])\n",
    "print('first  6 element:',x[:6])\n",
    "print('last  6 element:',x[-6:])"
   ]
  },
  {
   "cell_type": "markdown",
   "metadata": {},
   "source": [
    "#for 2d matrix \n",
    "- single row=array[row,coloumn]\n",
    "----\n",
    "-single row=array[row]\n",
    "----\n",
    "single coloumn=array[:,column] \n",
    "----\n",
    "multiple row=array[row1:row2]\n",
    "----\n",
    "multiple columns=array[:,column1:column2]\n",
    "----\n",
    "multiple row and column=array[row1:row2,column1:column2]"
   ]
  },
  {
   "cell_type": "code",
   "execution_count": 49,
   "metadata": {},
   "outputs": [
    {
     "name": "stdout",
     "output_type": "stream",
     "text": [
      "[[3 6 2 5 6 4 2 6 4 6]\n",
      " [3 2 5 1 6 1 8 9 2 8]\n",
      " [5 4 6 5 8 5 3 1 9 2]\n",
      " [8 9 6 7 9 3 5 7 2 4]\n",
      " [6 9 4 2 8 5 9 6 7 7]\n",
      " [1 5 9 2 5 2 8 1 5 8]\n",
      " [1 2 6 8 9 6 7 6 6 1]\n",
      " [8 8 6 5 4 7 2 8 7 4]\n",
      " [4 7 3 4 6 3 4 5 1 9]\n",
      " [9 3 2 2 3 2 3 8 5 8]]\n",
      "first element : 3 or 3\n",
      "last element : 8 or 8\n",
      "first row : [3 6 2 5 6 4 2 6 4 6]\n",
      "last row : [9 3 2 2 3 2 3 8 5 8]\n",
      "first column : [3 3 5 8 6 1 1 8 4 9]\n",
      "last column : [6 8 2 4 7 8 1 4 9 8]\n",
      "3rd row [5 4 6 5 8 5 3 1 9 2]\n",
      "3rd column [2 5 6 6 4 9 6 6 3 2]\n",
      "fist 3 row and 3 column [[3 6 2]\n",
      " [3 2 5]\n",
      " [5 4 6]]\n"
     ]
    }
   ],
   "source": [
    "x2=x.reshape(10,10)\n",
    "print(x2)\n",
    "print('first element :',x2[0,0],'or',x2[0][0])\n",
    "print('last element :',x2[-1,-1],'or',x2[-1][-1])\n",
    "print('first row :',x2[0])\n",
    "print('last row :',x2[-1])\n",
    "print('first column :',x2[:,0])\n",
    "print('last column :',x2[:,-1])\n",
    "print('3rd row',x2[2])\n",
    "print('3rd column',x2[:,2])\n",
    "print('fist 3 row and 3 column',x2[:3,:3])"
   ]
  },
  {
   "cell_type": "code",
   "execution_count": 61,
   "metadata": {},
   "outputs": [
    {
     "name": "stdout",
     "output_type": "stream",
     "text": [
      "[[920  28 744 494 270 778 102 866 719 602]\n",
      " [361  92 247  40 480 851 650 523 508 715]\n",
      " [ 82 944 814 752 981  90  70 768 195 628]\n",
      " [256 845 965  94 526 153 196 158 318 875]\n",
      " [147 398 165 126 155 287 335 682 880 109]\n",
      " [831 231  46 145 532 541 180 603 589 415]\n",
      " [580 251 474  57 937 398 269 319 124 924]\n",
      " [636 218 236 191 763 958 816 510 447  45]\n",
      " [340 909 336 645 921 842 564 978 456  90]\n",
      " [513 669 186 835 119 783 644 291 848 649]]\n"
     ]
    }
   ],
   "source": [
    "y=np.random.randint(1,1000,(10,10))\n",
    "print(y)"
   ]
  },
  {
   "cell_type": "code",
   "execution_count": 57,
   "metadata": {},
   "outputs": [
    {
     "name": "stdout",
     "output_type": "stream",
     "text": [
      "75 193 205 485 430 187 221 39 91 403 31 474 28 400 235 378 397 382 39 356 70 222 204 286 28 434 374 118 479 187 69 115 44 479 18 416 160 493 40 127 459 18 477 111 280 165 251 311 197 112 330 440 "
     ]
    },
    {
     "data": {
      "text/plain": [
       "array([ 75, 193, 205, 485, 430, 187, 221,  39,  91, 403,  31, 474,  28,\n",
       "       400, 235, 378, 397, 382,  39, 356,  70, 222, 204, 286,  28, 434,\n",
       "       374, 118, 479, 187,  69, 115,  44, 479,  18, 416, 160, 493,  40,\n",
       "       127, 459,  18, 477, 111, 280, 165, 251, 311, 197, 112, 330, 440])"
      ]
     },
     "execution_count": 57,
     "metadata": {},
     "output_type": "execute_result"
    }
   ],
   "source": [
    "for i in y:\n",
    "    for j in i:\n",
    "        if j< 500:\n",
    "            print(j,end=' ')\n",
    "\n",
    "            #or\n",
    "           \n",
    "y[y<500]#boolean "
   ]
  },
  {
   "cell_type": "code",
   "execution_count": 58,
   "metadata": {},
   "outputs": [
    {
     "data": {
      "text/plain": [
       "array([485, 672, 708, 430, 679, 584, 536, 403, 474, 400, 598, 378, 397,\n",
       "       615, 536, 382, 603, 356, 501, 655, 286, 512, 434, 374, 479, 479,\n",
       "       620, 416, 493, 630, 459, 477, 280, 547, 525, 251, 311, 592, 690,\n",
       "       330, 540, 591, 506, 574, 440, 532, 505])"
      ]
     },
     "execution_count": 58,
     "metadata": {},
     "output_type": "execute_result"
    }
   ],
   "source": [
    "y[(y>250) & (y<750)]#bitwise and is used"
   ]
  },
  {
   "cell_type": "code",
   "execution_count": 66,
   "metadata": {},
   "outputs": [
    {
     "name": "stdout",
     "output_type": "stream",
     "text": [
      "sum of all values: 1.0000000000000013\n"
     ]
    },
    {
     "ename": "AxisError",
     "evalue": "axis 1 is out of bounds for array of dimension 1",
     "output_type": "error",
     "traceback": [
      "\u001b[1;31m---------------------------------------------------------------------------\u001b[0m",
      "\u001b[1;31mAxisError\u001b[0m                                 Traceback (most recent call last)",
      "\u001b[1;32mc:\\Users\\Shiva\\Documents\\python DataScience\\datascience\\numpy_ex.ipynb Cell 22\u001b[0m in \u001b[0;36m<cell line: 2>\u001b[1;34m()\u001b[0m\n\u001b[0;32m      <a href='vscode-notebook-cell:/c%3A/Users/Shiva/Documents/python%20DataScience/datascience/numpy_ex.ipynb#X30sZmlsZQ%3D%3D?line=0'>1</a>\u001b[0m \u001b[39mprint\u001b[39m(\u001b[39m'\u001b[39m\u001b[39msum of all values:\u001b[39m\u001b[39m'\u001b[39m,y\u001b[39m.\u001b[39msum())\n\u001b[1;32m----> <a href='vscode-notebook-cell:/c%3A/Users/Shiva/Documents/python%20DataScience/datascience/numpy_ex.ipynb#X30sZmlsZQ%3D%3D?line=1'>2</a>\u001b[0m \u001b[39mprint\u001b[39m(\u001b[39m'\u001b[39m\u001b[39msum of each row:\u001b[39m\u001b[39m'\u001b[39m,y\u001b[39m.\u001b[39;49msum(axis\u001b[39m=\u001b[39;49m\u001b[39m1\u001b[39;49m))\n\u001b[0;32m      <a href='vscode-notebook-cell:/c%3A/Users/Shiva/Documents/python%20DataScience/datascience/numpy_ex.ipynb#X30sZmlsZQ%3D%3D?line=2'>3</a>\u001b[0m \u001b[39mprint\u001b[39m(\u001b[39m'\u001b[39m\u001b[39msum of each column:\u001b[39m\u001b[39m'\u001b[39m,y\u001b[39m.\u001b[39msum(axis\u001b[39m=\u001b[39m\u001b[39m0\u001b[39m))\n\u001b[0;32m      <a href='vscode-notebook-cell:/c%3A/Users/Shiva/Documents/python%20DataScience/datascience/numpy_ex.ipynb#X30sZmlsZQ%3D%3D?line=3'>4</a>\u001b[0m \u001b[39mprint\u001b[39m(\u001b[39m'\u001b[39m\u001b[39m----------------------------------\u001b[39m\u001b[39m'\u001b[39m)\n",
      "File \u001b[1;32mc:\\Users\\Shiva\\miniconda3\\lib\\site-packages\\numpy\\core\\_methods.py:48\u001b[0m, in \u001b[0;36m_sum\u001b[1;34m(a, axis, dtype, out, keepdims, initial, where)\u001b[0m\n\u001b[0;32m     46\u001b[0m \u001b[39mdef\u001b[39;00m \u001b[39m_sum\u001b[39m(a, axis\u001b[39m=\u001b[39m\u001b[39mNone\u001b[39;00m, dtype\u001b[39m=\u001b[39m\u001b[39mNone\u001b[39;00m, out\u001b[39m=\u001b[39m\u001b[39mNone\u001b[39;00m, keepdims\u001b[39m=\u001b[39m\u001b[39mFalse\u001b[39;00m,\n\u001b[0;32m     47\u001b[0m          initial\u001b[39m=\u001b[39m_NoValue, where\u001b[39m=\u001b[39m\u001b[39mTrue\u001b[39;00m):\n\u001b[1;32m---> 48\u001b[0m     \u001b[39mreturn\u001b[39;00m umr_sum(a, axis, dtype, out, keepdims, initial, where)\n",
      "\u001b[1;31mAxisError\u001b[0m: axis 1 is out of bounds for array of dimension 1"
     ]
    }
   ],
   "source": [
    "print('sum of all values:',y.sum())\n",
    "print('sum of each row:',y.sum(axis=1))\n",
    "print('sum of each column:',y.sum(axis=0))\n",
    "print('----------------------------------')\n",
    "\n",
    "\n",
    "print('mean of all values:',y.mean())\n",
    "print('mean of each row:',y.mean(axis=1))\n",
    "print('mean of each column',y.mean(axis=0))\n",
    "print(\"-------------------------------------\")\n",
    "print(\"standard deviation of all values\",y.std())\n",
    "print(\"standard deviation of each row\",y.std(axis=1))\n",
    "print(\"standard deviation of each column\",y.std(axis=0))\n",
    "print('----------------------------------')\n",
    "\n",
    "print(\"min and max of all values\",y.min(),y.max())\n",
    "print(\"min and max of each row\",y.min(axis=1),y.max(axis=1))\n",
    "print(\"min and max of each column\",y.min(axis=0),y.max(axis=0))"
   ]
  },
  {
   "cell_type": "code",
   "execution_count": 64,
   "metadata": {},
   "outputs": [
    {
     "name": "stdout",
     "output_type": "stream",
     "text": [
      "['Solarize_Light2', '_classic_test_patch', '_mpl-gallery', '_mpl-gallery-nogrid', 'bmh', 'classic', 'dark_background', 'fast', 'fivethirtyeight', 'ggplot', 'grayscale', 'seaborn-v0_8', 'seaborn-v0_8-bright', 'seaborn-v0_8-colorblind', 'seaborn-v0_8-dark', 'seaborn-v0_8-dark-palette', 'seaborn-v0_8-darkgrid', 'seaborn-v0_8-deep', 'seaborn-v0_8-muted', 'seaborn-v0_8-notebook', 'seaborn-v0_8-paper', 'seaborn-v0_8-pastel', 'seaborn-v0_8-poster', 'seaborn-v0_8-talk', 'seaborn-v0_8-ticks', 'seaborn-v0_8-white', 'seaborn-v0_8-whitegrid', 'tableau-colorblind10']\n"
     ]
    }
   ],
   "source": [
    "print(plt.style.available)\n",
    "plt.style.use('ggplot')"
   ]
  },
  {
   "cell_type": "code",
   "execution_count": 65,
   "metadata": {},
   "outputs": [
    {
     "data": {
      "image/png": "[encoded data removed]",
      "text/plain": [
       "<Figure size 720x360 with 1 Axes>"
      ]
     },
     "metadata": {},
     "output_type": "display_data"
    }
   ],
   "source": [
    "#from cProfile import label\n",
    "#import matplotlib.pyplot as plt\n",
    "from cProfile import label\n",
    "\n",
    "\n",
    "plt.figure(figsize=(10,5))\n",
    "                #width,height\n",
    "\n",
    "t=np.linspace(0,2**2*np.pi,100)\n",
    "x=np.sin(t)\n",
    "y=np.cos(t)\n",
    "z=np.tan(t)\n",
    "plt.plot(t,x,label='sin(t)',color='green',linewidth=3,marker='o',markersize=6)\n",
    "plt.plot(t,y,label='cos(y)',color='blue',linewidth=3,marker='2',markersize=6,linestyle='--')\n",
    "#plt.plot(t,z,label='tan(z)',color='red')\n",
    "plt.text(-0.4,-0.3,'sin(t)',fontsize=20)\n",
    "plt.text(-0.4,-0.3,'sin(t)',fontsize=20)\n",
    "plt.text(-1,1.2,'cos(t)',fontsize=20)\n",
    "        #width,height\n",
    "plt.legend()# A legend is an area describing the elements of the graph\n",
    "\n",
    "plt.plot(t,y)\n",
    "\n",
    "plt.grid(True) "
   ]
  },
  {
   "cell_type": "markdown",
   "metadata": {},
   "source": [
    "import matplotlib.pyplot as plt"
   ]
  }
 ],
 "metadata": {
  "kernelspec": {
   "display_name": "Python 3.9.12 ('base')",
   "language": "python",
   "name": "python3"
  },
  "language_info": {
   "codemirror_mode": {
    "name": "ipython",
    "version": 3
   },
   "file_extension": ".py",
   "mimetype": "text/x-python",
   "name": "python",
   "nbconvert_exporter": "python",
   "pygments_lexer": "ipython3",
   "version": "3.9.12"
  },
  "orig_nbformat": 4,
  "vscode": {
   "interpreter": {
    "hash": "71337036f693cf9207c235ee4583659279574cf34825e1d3ad457f737f7d2262"
   }
  }
 },
 "nbformat": 4,
 "nbformat_minor": 2
}
